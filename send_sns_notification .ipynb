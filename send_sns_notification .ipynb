{
 "cells": [
  {
   "cell_type": "code",
   "execution_count": null,
   "id": "bafb81e6",
   "metadata": {},
   "outputs": [],
   "source": [
    "import boto3"
   ]
  },
  {
   "cell_type": "code",
   "execution_count": null,
   "id": "405fe39d",
   "metadata": {},
   "outputs": [],
   "source": [
    "mysns = boto3.resource(\"sns\")"
   ]
  },
  {
   "cell_type": "code",
   "execution_count": null,
   "id": "6f131315",
   "metadata": {},
   "outputs": [],
   "source": [
    "mysns = boto3.client(\"sns\")"
   ]
  },
  {
   "cell_type": "code",
   "execution_count": null,
   "id": "787b410b",
   "metadata": {},
   "outputs": [],
   "source": [
    "mysns.publish(\n",
    "    \n",
    "    TopicArn='arn:aws:sns:us-east-1:873421059726:newteamtopic',\n",
    "        Message='this task given by the world record holder mr. vimal daga sir',\n",
    "        Subject='sns notification msg'  \n",
    ")"
   ]
  },
  {
   "cell_type": "code",
   "execution_count": 1,
   "id": "efe40ba9",
   "metadata": {},
   "outputs": [],
   "source": []
  },
  {
   "cell_type": "code",
   "execution_count": null,
   "id": "86870a07",
   "metadata": {},
   "outputs": [],
   "source": [
    "\n"
   ]
  },
  {
   "cell_type": "code",
   "execution_count": null,
   "id": "48fca2f1",
   "metadata": {},
   "outputs": [],
   "source": []
  }
 ],
 "metadata": {
  "kernelspec": {
   "display_name": "Python 3 (ipykernel)",
   "language": "python",
   "name": "python3"
  },
  "language_info": {
   "codemirror_mode": {
    "name": "ipython",
    "version": 3
   },
   "file_extension": ".py",
   "mimetype": "text/x-python",
   "name": "python",
   "nbconvert_exporter": "python",
   "pygments_lexer": "ipython3",
   "version": "3.11.0"
  }
 },
 "nbformat": 4,
 "nbformat_minor": 5
}
