{
 "cells": [
  {
   "cell_type": "code",
   "execution_count": null,
   "id": "d6d71f5a",
   "metadata": {},
   "outputs": [],
   "source": [
    "db = [ 1, \"vimal\", [56465, 11111]]"
   ]
  },
  {
   "cell_type": "code",
   "execution_count": null,
   "id": "377164f0",
   "metadata": {},
   "outputs": [],
   "source": [
    "# shallow copy\n",
    "lwdb = copy.copy(db)"
   ]
  },
  {
   "cell_type": "code",
   "execution_count": null,
   "id": "0ea6764d",
   "metadata": {},
   "outputs": [],
   "source": [
    "import copy"
   ]
  },
  {
   "cell_type": "code",
   "execution_count": null,
   "id": "af7dadf8",
   "metadata": {},
   "outputs": [],
   "source": [
    "db"
   ]
  },
  {
   "cell_type": "code",
   "execution_count": null,
   "id": "15f92cf9",
   "metadata": {},
   "outputs": [],
   "source": [
    "lwdb[0]= 111"
   ]
  },
  {
   "cell_type": "code",
   "execution_count": null,
   "id": "72bfa25f",
   "metadata": {},
   "outputs": [],
   "source": [
    "db"
   ]
  },
  {
   "cell_type": "code",
   "execution_count": null,
   "id": "51526b4f",
   "metadata": {},
   "outputs": [],
   "source": [
    "# deep copy\n",
    "vimaldb = copy.deepcopy(db)"
   ]
  },
  {
   "cell_type": "code",
   "execution_count": null,
   "id": "906bd281",
   "metadata": {},
   "outputs": [],
   "source": [
    "vimaldb"
   ]
  },
  {
   "cell_type": "code",
   "execution_count": null,
   "id": "34ddc7ab",
   "metadata": {},
   "outputs": [],
   "source": [
    "vimaldb[2][0] = 6666"
   ]
  },
  {
   "cell_type": "code",
   "execution_count": null,
   "id": "1ea2d588",
   "metadata": {},
   "outputs": [],
   "source": [
    "vimaldb"
   ]
  },
  {
   "cell_type": "code",
   "execution_count": null,
   "id": "954d0bb3",
   "metadata": {},
   "outputs": [],
   "source": [
    "db"
   ]
  },
  {
   "cell_type": "code",
   "execution_count": null,
   "id": "674dd8dc",
   "metadata": {},
   "outputs": [],
   "source": [
    "def lw():\n",
    "    x = 5 \n",
    "    print(x)\n",
    "    z = x + 6\n",
    "    print(z)\n",
    "    \n",
    "print(\"Hii\")\n"
   ]
  },
  {
   "cell_type": "code",
   "execution_count": null,
   "id": "310bc303",
   "metadata": {},
   "outputs": [],
   "source": [
    "# when ever we need code again and again we put code in box and we give this box a name is function\n",
    "# indentation  by this python function know this is part of function \n",
    "# if you want to run in future you have to call by giving the name of function\n"
   ]
  },
  {
   "cell_type": "code",
   "execution_count": null,
   "id": "0c7f5a44",
   "metadata": {},
   "outputs": [],
   "source": [
    "def my():\n",
    "    print(\"i am vimal\")\n",
    "    print(\"hee\")"
   ]
  },
  {
   "cell_type": "code",
   "execution_count": null,
   "id": "0dcfda25",
   "metadata": {},
   "outputs": [],
   "source": [
    "hello = my\n",
    "# assign function name to variable"
   ]
  },
  {
   "cell_type": "code",
   "execution_count": null,
   "id": "f8bfdde6",
   "metadata": {},
   "outputs": [],
   "source": [
    "my "
   ]
  },
  {
   "cell_type": "code",
   "execution_count": null,
   "id": "bee66235",
   "metadata": {},
   "outputs": [],
   "source": [
    "my()\n",
    "# for run the function"
   ]
  },
  {
   "cell_type": "code",
   "execution_count": null,
   "id": "46bd5069",
   "metadata": {},
   "outputs": [],
   "source": [
    "hello()"
   ]
  },
  {
   "cell_type": "code",
   "execution_count": null,
   "id": "0ce071ed",
   "metadata": {},
   "outputs": [],
   "source": [
    "# print keyword print only \n",
    "\n",
    "def lw(x , y, x ):\n",
    "    print(x)\n",
    "    return(\"hello\", x)\n",
    "    \n",
    "    "
   ]
  },
  {
   "cell_type": "code",
   "execution_count": null,
   "id": "b81e686f",
   "metadata": {},
   "outputs": [],
   "source": [
    "\n",
    "# in variable we print only when we return in function"
   ]
  },
  {
   "cell_type": "code",
   "execution_count": null,
   "id": "5fffad44",
   "metadata": {},
   "outputs": [],
   "source": [
    "y"
   ]
  },
  {
   "cell_type": "code",
   "execution_count": null,
   "id": "30afb21d",
   "metadata": {},
   "outputs": [],
   "source": [
    "p = lw(\"pop\")"
   ]
  },
  {
   "cell_type": "code",
   "execution_count": null,
   "id": "78fd59d4",
   "metadata": {},
   "outputs": [],
   "source": [
    "print(\"hi\", y)"
   ]
  },
  {
   "cell_type": "code",
   "execution_count": null,
   "id": "ba438379",
   "metadata": {},
   "outputs": [],
   "source": [
    "p"
   ]
  },
  {
   "cell_type": "code",
   "execution_count": null,
   "id": "488f91b5",
   "metadata": {},
   "outputs": [],
   "source": [
    "# after return what ever we run that will not run that's why we have to write return in the last\n",
    "\n",
    "def mysum(x, y, z):\n",
    "    p = x +  + z \n",
    "    return p\n",
    "    print(\"hi\")"
   ]
  },
  {
   "cell_type": "code",
   "execution_count": null,
   "id": "933b7f42",
   "metadata": {},
   "outputs": [],
   "source": [
    "# we have to pass three argument\n",
    "\n",
    "mysum(3, 5, 6)"
   ]
  },
  {
   "cell_type": "code",
   "execution_count": null,
   "id": "09adb558",
   "metadata": {},
   "outputs": [],
   "source": [
    "# single responsibility principle  every function have one responsibility\n"
   ]
  },
  {
   "cell_type": "code",
   "execution_count": null,
   "id": "bb4f946d",
   "metadata": {},
   "outputs": [],
   "source": [
    "# iteration:   pick one do something and pick again and do ..........\n",
    "\n",
    "mob = [ 111, 222, 333, 444]"
   ]
  },
  {
   "cell_type": "code",
   "execution_count": null,
   "id": "a52a6334",
   "metadata": {},
   "outputs": [],
   "source": [
    "# iteration\n",
    "# we have to use indentation here also\n",
    "\n",
    "for x in mob:\n",
    "    print(x)"
   ]
  },
  {
   "cell_type": "code",
   "execution_count": null,
   "id": "c7dc925c",
   "metadata": {},
   "outputs": [],
   "source": [
    "# task1 : how to send message on whatsapp\n",
    "# task2:  find out the python library to send email how to send email\n",
    "# task3: find out how to send the send the text message"
   ]
  },
  {
   "cell_type": "code",
   "execution_count": null,
   "id": "2fff9c07",
   "metadata": {},
   "outputs": [],
   "source": []
  },
  {
   "cell_type": "code",
   "execution_count": 3,
   "id": "83c70c42",
   "metadata": {},
   "outputs": [
    {
     "name": "stdout",
     "output_type": "stream",
     "text": [
      "In 78 Seconds WhatsApp will open and after 15 Seconds Message will be Delivered!\n"
     ]
    }
   ],
   "source": [
    "#pip install pywhatkit #library\n",
    "\n",
    "#load module\n",
    "import pywhatkit\n",
    "\n",
    "mobiles = [\n",
    "    \"+918109673599\",\n",
    "    \"+927788776655\",\n",
    "    \"+931234567856\",\n",
    "    \"+959876543477\",\n",
    "]\n",
    "\n",
    "for mobile in mobiles:\n",
    "    if mobile.startswith(\"+91\"):\n",
    "        pywhatkit.sendwhatmsg(mobile, \"hello this message is send by python code hello lucky\",  10 , 57  )"
   ]
  },
  {
   "cell_type": "code",
   "execution_count": null,
   "id": "9fce10c1",
   "metadata": {},
   "outputs": [],
   "source": [
    "import pywhatkit \n",
    "\n",
    "emails = [\n",
    "     \"pst43.com\",\n",
    "    \"herde9rer\",\n",
    "    \"pspappu7354fherm\",\n",
    "    \"sanodiyalucky@gmail.com\",\n",
    "]\n",
    "\n",
    "for email in emails:\n",
    "    if email.endswithn(\"gmail.com\"):\n",
    "        pywhatkit.send_mail(email, \"hello sir this mail is send py the python code\", 9, 37 )"
   ]
  },
  {
   "cell_type": "code",
   "execution_count": null,
   "id": "192b7490",
   "metadata": {},
   "outputs": [],
   "source": [
    "import pywhatkit\n",
    "pywhatkit.start_server()\n",
    "\n",
    "email_sender= \"pspappu7354@gmail.com\"\n",
    "password = \"P@ppu73545417\"\n",
    "message = \"this email is sended by the python code \"\n",
    "\n",
    "email_receiver = \"sanodiyalucky@gmail.com\"\n",
    "\n",
    "pywhatkit.send_mail(email_sender, password, subject, message, email_receiver)"
   ]
  },
  {
   "cell_type": "code",
   "execution_count": 1,
   "id": "64979afd",
   "metadata": {},
   "outputs": [
    {
     "name": "stdout",
     "output_type": "stream",
     "text": [
      "Type your password and press enter: P@ppu73545417\n"
     ]
    },
    {
     "ename": "gaierror",
     "evalue": "[Errno 11003] getaddrinfo failed",
     "output_type": "error",
     "traceback": [
      "\u001b[1;31m---------------------------------------------------------------------------\u001b[0m",
      "\u001b[1;31mgaierror\u001b[0m                                  Traceback (most recent call last)",
      "Cell \u001b[1;32mIn[1], line 9\u001b[0m\n\u001b[0;32m      6\u001b[0m \u001b[38;5;66;03m# Create a secure SSL context\u001b[39;00m\n\u001b[0;32m      7\u001b[0m context \u001b[38;5;241m=\u001b[39m ssl\u001b[38;5;241m.\u001b[39mcreate_default_context()\n\u001b[1;32m----> 9\u001b[0m \u001b[38;5;28;01mwith\u001b[39;00m \u001b[43msmtplib\u001b[49m\u001b[38;5;241;43m.\u001b[39;49m\u001b[43mSMTP_SSL\u001b[49m\u001b[43m(\u001b[49m\u001b[38;5;124;43m\"\u001b[39;49m\u001b[38;5;124;43msanodiyalucky@gmail.com\u001b[39;49m\u001b[38;5;124;43m\"\u001b[39;49m\u001b[43m,\u001b[49m\u001b[43m \u001b[49m\u001b[43mport\u001b[49m\u001b[43m,\u001b[49m\u001b[43m \u001b[49m\u001b[43mcontext\u001b[49m\u001b[38;5;241;43m=\u001b[39;49m\u001b[43mcontext\u001b[49m\u001b[43m)\u001b[49m \u001b[38;5;28;01mas\u001b[39;00m server:\n\u001b[0;32m     10\u001b[0m     server\u001b[38;5;241m.\u001b[39mlogin(\u001b[38;5;124m\"\u001b[39m\u001b[38;5;124mpspappu7354@gmail.com\u001b[39m\u001b[38;5;124m\"\u001b[39m, password)\n\u001b[0;32m     11\u001b[0m     \u001b[38;5;66;03m# TODO: Send email here\u001b[39;00m\n",
      "File \u001b[1;32m~\\AppData\\Local\\Programs\\Python\\Python311\\Lib\\smtplib.py:1050\u001b[0m, in \u001b[0;36mSMTP_SSL.__init__\u001b[1;34m(self, host, port, local_hostname, keyfile, certfile, timeout, source_address, context)\u001b[0m\n\u001b[0;32m   1047\u001b[0m     context \u001b[38;5;241m=\u001b[39m ssl\u001b[38;5;241m.\u001b[39m_create_stdlib_context(certfile\u001b[38;5;241m=\u001b[39mcertfile,\n\u001b[0;32m   1048\u001b[0m                                          keyfile\u001b[38;5;241m=\u001b[39mkeyfile)\n\u001b[0;32m   1049\u001b[0m \u001b[38;5;28mself\u001b[39m\u001b[38;5;241m.\u001b[39mcontext \u001b[38;5;241m=\u001b[39m context\n\u001b[1;32m-> 1050\u001b[0m \u001b[43mSMTP\u001b[49m\u001b[38;5;241;43m.\u001b[39;49m\u001b[38;5;21;43m__init__\u001b[39;49m\u001b[43m(\u001b[49m\u001b[38;5;28;43mself\u001b[39;49m\u001b[43m,\u001b[49m\u001b[43m \u001b[49m\u001b[43mhost\u001b[49m\u001b[43m,\u001b[49m\u001b[43m \u001b[49m\u001b[43mport\u001b[49m\u001b[43m,\u001b[49m\u001b[43m \u001b[49m\u001b[43mlocal_hostname\u001b[49m\u001b[43m,\u001b[49m\u001b[43m \u001b[49m\u001b[43mtimeout\u001b[49m\u001b[43m,\u001b[49m\n\u001b[0;32m   1051\u001b[0m \u001b[43m              \u001b[49m\u001b[43msource_address\u001b[49m\u001b[43m)\u001b[49m\n",
      "File \u001b[1;32m~\\AppData\\Local\\Programs\\Python\\Python311\\Lib\\smtplib.py:255\u001b[0m, in \u001b[0;36mSMTP.__init__\u001b[1;34m(self, host, port, local_hostname, timeout, source_address)\u001b[0m\n\u001b[0;32m    252\u001b[0m \u001b[38;5;28mself\u001b[39m\u001b[38;5;241m.\u001b[39m_auth_challenge_count \u001b[38;5;241m=\u001b[39m \u001b[38;5;241m0\u001b[39m\n\u001b[0;32m    254\u001b[0m \u001b[38;5;28;01mif\u001b[39;00m host:\n\u001b[1;32m--> 255\u001b[0m     (code, msg) \u001b[38;5;241m=\u001b[39m \u001b[38;5;28;43mself\u001b[39;49m\u001b[38;5;241;43m.\u001b[39;49m\u001b[43mconnect\u001b[49m\u001b[43m(\u001b[49m\u001b[43mhost\u001b[49m\u001b[43m,\u001b[49m\u001b[43m \u001b[49m\u001b[43mport\u001b[49m\u001b[43m)\u001b[49m\n\u001b[0;32m    256\u001b[0m     \u001b[38;5;28;01mif\u001b[39;00m code \u001b[38;5;241m!=\u001b[39m \u001b[38;5;241m220\u001b[39m:\n\u001b[0;32m    257\u001b[0m         \u001b[38;5;28mself\u001b[39m\u001b[38;5;241m.\u001b[39mclose()\n",
      "File \u001b[1;32m~\\AppData\\Local\\Programs\\Python\\Python311\\Lib\\smtplib.py:341\u001b[0m, in \u001b[0;36mSMTP.connect\u001b[1;34m(self, host, port, source_address)\u001b[0m\n\u001b[0;32m    339\u001b[0m     port \u001b[38;5;241m=\u001b[39m \u001b[38;5;28mself\u001b[39m\u001b[38;5;241m.\u001b[39mdefault_port\n\u001b[0;32m    340\u001b[0m sys\u001b[38;5;241m.\u001b[39maudit(\u001b[38;5;124m\"\u001b[39m\u001b[38;5;124msmtplib.connect\u001b[39m\u001b[38;5;124m\"\u001b[39m, \u001b[38;5;28mself\u001b[39m, host, port)\n\u001b[1;32m--> 341\u001b[0m \u001b[38;5;28mself\u001b[39m\u001b[38;5;241m.\u001b[39msock \u001b[38;5;241m=\u001b[39m \u001b[38;5;28;43mself\u001b[39;49m\u001b[38;5;241;43m.\u001b[39;49m\u001b[43m_get_socket\u001b[49m\u001b[43m(\u001b[49m\u001b[43mhost\u001b[49m\u001b[43m,\u001b[49m\u001b[43m \u001b[49m\u001b[43mport\u001b[49m\u001b[43m,\u001b[49m\u001b[43m \u001b[49m\u001b[38;5;28;43mself\u001b[39;49m\u001b[38;5;241;43m.\u001b[39;49m\u001b[43mtimeout\u001b[49m\u001b[43m)\u001b[49m\n\u001b[0;32m    342\u001b[0m \u001b[38;5;28mself\u001b[39m\u001b[38;5;241m.\u001b[39mfile \u001b[38;5;241m=\u001b[39m \u001b[38;5;28;01mNone\u001b[39;00m\n\u001b[0;32m    343\u001b[0m (code, msg) \u001b[38;5;241m=\u001b[39m \u001b[38;5;28mself\u001b[39m\u001b[38;5;241m.\u001b[39mgetreply()\n",
      "File \u001b[1;32m~\\AppData\\Local\\Programs\\Python\\Python311\\Lib\\smtplib.py:1056\u001b[0m, in \u001b[0;36mSMTP_SSL._get_socket\u001b[1;34m(self, host, port, timeout)\u001b[0m\n\u001b[0;32m   1054\u001b[0m \u001b[38;5;28;01mif\u001b[39;00m \u001b[38;5;28mself\u001b[39m\u001b[38;5;241m.\u001b[39mdebuglevel \u001b[38;5;241m>\u001b[39m \u001b[38;5;241m0\u001b[39m:\n\u001b[0;32m   1055\u001b[0m     \u001b[38;5;28mself\u001b[39m\u001b[38;5;241m.\u001b[39m_print_debug(\u001b[38;5;124m'\u001b[39m\u001b[38;5;124mconnect:\u001b[39m\u001b[38;5;124m'\u001b[39m, (host, port))\n\u001b[1;32m-> 1056\u001b[0m new_socket \u001b[38;5;241m=\u001b[39m \u001b[38;5;28;43msuper\u001b[39;49m\u001b[43m(\u001b[49m\u001b[43m)\u001b[49m\u001b[38;5;241;43m.\u001b[39;49m\u001b[43m_get_socket\u001b[49m\u001b[43m(\u001b[49m\u001b[43mhost\u001b[49m\u001b[43m,\u001b[49m\u001b[43m \u001b[49m\u001b[43mport\u001b[49m\u001b[43m,\u001b[49m\u001b[43m \u001b[49m\u001b[43mtimeout\u001b[49m\u001b[43m)\u001b[49m\n\u001b[0;32m   1057\u001b[0m new_socket \u001b[38;5;241m=\u001b[39m \u001b[38;5;28mself\u001b[39m\u001b[38;5;241m.\u001b[39mcontext\u001b[38;5;241m.\u001b[39mwrap_socket(new_socket,\n\u001b[0;32m   1058\u001b[0m                                       server_hostname\u001b[38;5;241m=\u001b[39m\u001b[38;5;28mself\u001b[39m\u001b[38;5;241m.\u001b[39m_host)\n\u001b[0;32m   1059\u001b[0m \u001b[38;5;28;01mreturn\u001b[39;00m new_socket\n",
      "File \u001b[1;32m~\\AppData\\Local\\Programs\\Python\\Python311\\Lib\\smtplib.py:312\u001b[0m, in \u001b[0;36mSMTP._get_socket\u001b[1;34m(self, host, port, timeout)\u001b[0m\n\u001b[0;32m    310\u001b[0m \u001b[38;5;28;01mif\u001b[39;00m \u001b[38;5;28mself\u001b[39m\u001b[38;5;241m.\u001b[39mdebuglevel \u001b[38;5;241m>\u001b[39m \u001b[38;5;241m0\u001b[39m:\n\u001b[0;32m    311\u001b[0m     \u001b[38;5;28mself\u001b[39m\u001b[38;5;241m.\u001b[39m_print_debug(\u001b[38;5;124m'\u001b[39m\u001b[38;5;124mconnect: to\u001b[39m\u001b[38;5;124m'\u001b[39m, (host, port), \u001b[38;5;28mself\u001b[39m\u001b[38;5;241m.\u001b[39msource_address)\n\u001b[1;32m--> 312\u001b[0m \u001b[38;5;28;01mreturn\u001b[39;00m \u001b[43msocket\u001b[49m\u001b[38;5;241;43m.\u001b[39;49m\u001b[43mcreate_connection\u001b[49m\u001b[43m(\u001b[49m\u001b[43m(\u001b[49m\u001b[43mhost\u001b[49m\u001b[43m,\u001b[49m\u001b[43m \u001b[49m\u001b[43mport\u001b[49m\u001b[43m)\u001b[49m\u001b[43m,\u001b[49m\u001b[43m \u001b[49m\u001b[43mtimeout\u001b[49m\u001b[43m,\u001b[49m\n\u001b[0;32m    313\u001b[0m \u001b[43m                                \u001b[49m\u001b[38;5;28;43mself\u001b[39;49m\u001b[38;5;241;43m.\u001b[39;49m\u001b[43msource_address\u001b[49m\u001b[43m)\u001b[49m\n",
      "File \u001b[1;32m~\\AppData\\Local\\Programs\\Python\\Python311\\Lib\\socket.py:826\u001b[0m, in \u001b[0;36mcreate_connection\u001b[1;34m(address, timeout, source_address, all_errors)\u001b[0m\n\u001b[0;32m    824\u001b[0m host, port \u001b[38;5;241m=\u001b[39m address\n\u001b[0;32m    825\u001b[0m exceptions \u001b[38;5;241m=\u001b[39m []\n\u001b[1;32m--> 826\u001b[0m \u001b[38;5;28;01mfor\u001b[39;00m res \u001b[38;5;129;01min\u001b[39;00m \u001b[43mgetaddrinfo\u001b[49m\u001b[43m(\u001b[49m\u001b[43mhost\u001b[49m\u001b[43m,\u001b[49m\u001b[43m \u001b[49m\u001b[43mport\u001b[49m\u001b[43m,\u001b[49m\u001b[43m \u001b[49m\u001b[38;5;241;43m0\u001b[39;49m\u001b[43m,\u001b[49m\u001b[43m \u001b[49m\u001b[43mSOCK_STREAM\u001b[49m\u001b[43m)\u001b[49m:\n\u001b[0;32m    827\u001b[0m     af, socktype, proto, canonname, sa \u001b[38;5;241m=\u001b[39m res\n\u001b[0;32m    828\u001b[0m     sock \u001b[38;5;241m=\u001b[39m \u001b[38;5;28;01mNone\u001b[39;00m\n",
      "File \u001b[1;32m~\\AppData\\Local\\Programs\\Python\\Python311\\Lib\\socket.py:961\u001b[0m, in \u001b[0;36mgetaddrinfo\u001b[1;34m(host, port, family, type, proto, flags)\u001b[0m\n\u001b[0;32m    958\u001b[0m \u001b[38;5;66;03m# We override this function since we want to translate the numeric family\u001b[39;00m\n\u001b[0;32m    959\u001b[0m \u001b[38;5;66;03m# and socket type values to enum constants.\u001b[39;00m\n\u001b[0;32m    960\u001b[0m addrlist \u001b[38;5;241m=\u001b[39m []\n\u001b[1;32m--> 961\u001b[0m \u001b[38;5;28;01mfor\u001b[39;00m res \u001b[38;5;129;01min\u001b[39;00m \u001b[43m_socket\u001b[49m\u001b[38;5;241;43m.\u001b[39;49m\u001b[43mgetaddrinfo\u001b[49m\u001b[43m(\u001b[49m\u001b[43mhost\u001b[49m\u001b[43m,\u001b[49m\u001b[43m \u001b[49m\u001b[43mport\u001b[49m\u001b[43m,\u001b[49m\u001b[43m \u001b[49m\u001b[43mfamily\u001b[49m\u001b[43m,\u001b[49m\u001b[43m \u001b[49m\u001b[38;5;28;43mtype\u001b[39;49m\u001b[43m,\u001b[49m\u001b[43m \u001b[49m\u001b[43mproto\u001b[49m\u001b[43m,\u001b[49m\u001b[43m \u001b[49m\u001b[43mflags\u001b[49m\u001b[43m)\u001b[49m:\n\u001b[0;32m    962\u001b[0m     af, socktype, proto, canonname, sa \u001b[38;5;241m=\u001b[39m res\n\u001b[0;32m    963\u001b[0m     addrlist\u001b[38;5;241m.\u001b[39mappend((_intenum_converter(af, AddressFamily),\n\u001b[0;32m    964\u001b[0m                      _intenum_converter(socktype, SocketKind),\n\u001b[0;32m    965\u001b[0m                      proto, canonname, sa))\n",
      "\u001b[1;31mgaierror\u001b[0m: [Errno 11003] getaddrinfo failed"
     ]
    }
   ],
   "source": [
    "import smtplib, ssl\n",
    "\n",
    "port = 465  # For SSL\n",
    "password = input(\"Type your password and press enter: \")\n",
    "\n",
    "# Create a secure SSL context\n",
    "context = ssl.create_default_context()\n",
    "\n",
    "with smtplib.SMTP_SSL(\"sanodiyalucky@gmail.com\", port, context=context) as server:\n",
    "    server.login(\"pspappu7354@gmail.com\", password)\n",
    "    # TODO: Send email here"
   ]
  },
  {
   "cell_type": "code",
   "execution_count": null,
   "id": "d59b4dbc",
   "metadata": {},
   "outputs": [],
   "source": [
    "# Your Twilio account SID and auth token\n",
    "account_sid = 'YOUR_ACCOUNT_SID'\n",
    "auth_token = 'YOUR_AUTH_TOKEN'\n",
    "\n",
    "# Create a Twilio client\n",
    "client = Client(account_sid, auth_token)\n",
    "\n",
    "# Send a text message\n",
    "message = client.messages.create(\n",
    "    body='Hello, this is a test message!',\n",
    "    from_='YOUR_TWILIO_PHONE_NUMBER',  # Your Twilio phone number\n",
    "    to='RECIPIENT_PHONE_NUMBER'  # Recipient's phone number\n",
    ")\n",
    "\n",
    "# Print the message SID\n",
    "print('Message SID:', message.sid)"
   ]
  }
 ],
 "metadata": {
  "kernelspec": {
   "display_name": "Python 3 (ipykernel)",
   "language": "python",
   "name": "python3"
  },
  "language_info": {
   "codemirror_mode": {
    "name": "ipython",
    "version": 3
   },
   "file_extension": ".py",
   "mimetype": "text/x-python",
   "name": "python",
   "nbconvert_exporter": "python",
   "pygments_lexer": "ipython3",
   "version": "3.11.0"
  }
 },
 "nbformat": 4,
 "nbformat_minor": 5
}
