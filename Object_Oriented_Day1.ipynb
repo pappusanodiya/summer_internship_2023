{
 "cells": [
  {
   "cell_type": "code",
   "execution_count": 50,
   "id": "8bbf0f02",
   "metadata": {},
   "outputs": [],
   "source": [
    "class SummerForm:\n",
    "\n",
    "        name = None\n",
    "        whatsapp = None\n",
    "        inquiry  = None\n",
    "        \n",
    "        def changename(n):\n",
    "            name = n\n",
    "            \n",
    "            \n",
    "        def changewhatsapp(n):\n",
    "            whatsapp = w"
   ]
  },
  {
   "cell_type": "code",
   "execution_count": 51,
   "id": "f304c283",
   "metadata": {},
   "outputs": [],
   "source": [
    "class JobForm:\n",
    "    name = None\n",
    "    Email = None\n",
    "    Exp = None"
   ]
  },
  {
   "cell_type": "code",
   "execution_count": 52,
   "id": "aa547ec8",
   "metadata": {},
   "outputs": [],
   "source": [
    "# instanciatenN\n",
    "rahul = SummerForm()"
   ]
  },
  {
   "cell_type": "code",
   "execution_count": 53,
   "id": "aa406c8d",
   "metadata": {},
   "outputs": [],
   "source": [
    "rahul.name = \"Rahul Kumar\""
   ]
  },
  {
   "cell_type": "code",
   "execution_count": 54,
   "id": "5993a670",
   "metadata": {},
   "outputs": [],
   "source": [
    "rahul.whatsapp = 234543"
   ]
  },
  {
   "cell_type": "code",
   "execution_count": 55,
   "id": "04be9d8e",
   "metadata": {},
   "outputs": [],
   "source": [
    "rahul.inquiry = \"I want to QC\""
   ]
  },
  {
   "cell_type": "code",
   "execution_count": 56,
   "id": "7ad6585e",
   "metadata": {},
   "outputs": [],
   "source": [
    "x = None"
   ]
  },
  {
   "cell_type": "code",
   "execution_count": 57,
   "id": "04fd5fe0",
   "metadata": {},
   "outputs": [
    {
     "data": {
      "text/plain": [
       "<__main__.SummerForm at 0x295c522aa50>"
      ]
     },
     "execution_count": 57,
     "metadata": {},
     "output_type": "execute_result"
    }
   ],
   "source": [
    "rahul"
   ]
  },
  {
   "cell_type": "raw",
   "id": "809ffa74",
   "metadata": {},
   "source": [
    "rahul.name()"
   ]
  },
  {
   "cell_type": "code",
   "execution_count": 59,
   "id": "62148454",
   "metadata": {},
   "outputs": [
    {
     "data": {
      "text/plain": [
       "{'name': 'Rahul Kumar', 'whatsapp': 234543, 'inquiry': 'I want to QC'}"
      ]
     },
     "execution_count": 59,
     "metadata": {},
     "output_type": "execute_result"
    }
   ],
   "source": [
    "# TO SEE THE DATA\n",
    "rahul. __dict__"
   ]
  },
  {
   "cell_type": "code",
   "execution_count": null,
   "id": "c73af5a3",
   "metadata": {},
   "outputs": [],
   "source": []
  },
  {
   "cell_type": "code",
   "execution_count": null,
   "id": "c3d6fa92",
   "metadata": {},
   "outputs": [],
   "source": []
  }
 ],
 "metadata": {
  "kernelspec": {
   "display_name": "Python 3 (ipykernel)",
   "language": "python",
   "name": "python3"
  },
  "language_info": {
   "codemirror_mode": {
    "name": "ipython",
    "version": 3
   },
   "file_extension": ".py",
   "mimetype": "text/x-python",
   "name": "python",
   "nbconvert_exporter": "python",
   "pygments_lexer": "ipython3",
   "version": "3.11.0"
  }
 },
 "nbformat": 4,
 "nbformat_minor": 5
}
