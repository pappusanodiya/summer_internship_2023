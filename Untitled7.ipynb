{
 "cells": [
  {
   "cell_type": "code",
   "execution_count": 1,
   "id": "fbff8cb5",
   "metadata": {},
   "outputs": [],
   "source": [
    "class StudentForm:\n",
    "    name = None\n",
    "    mob = None"
   ]
  },
  {
   "cell_type": "code",
   "execution_count": 2,
   "id": "91df2492",
   "metadata": {},
   "outputs": [],
   "source": [
    "class JobForm:\n",
    "    name = None\n",
    "    mob = None"
   ]
  },
  {
   "cell_type": "code",
   "execution_count": 3,
   "id": "29fa9e22",
   "metadata": {},
   "outputs": [],
   "source": [
    "class CommonForm:\n",
    "    name = None\n",
    "    mob = None"
   ]
  },
  {
   "cell_type": "code",
   "execution_count": 4,
   "id": "0856d3a4",
   "metadata": {},
   "outputs": [],
   "source": [
    "class JobForm(CommonForm):\n",
    "    exp = None"
   ]
  },
  {
   "cell_type": "code",
   "execution_count": 5,
   "id": "e01675be",
   "metadata": {},
   "outputs": [],
   "source": [
    "class StudentForm(CommonForm):\n",
    "    query = None\n",
    "    "
   ]
  },
  {
   "cell_type": "code",
   "execution_count": 7,
   "id": "917074b6",
   "metadata": {},
   "outputs": [],
   "source": [
    "tom = StudentForm()"
   ]
  },
  {
   "cell_type": "code",
   "execution_count": 8,
   "id": "decda88a",
   "metadata": {},
   "outputs": [
    {
     "data": {
      "text/plain": [
       "['__class__',\n",
       " '__delattr__',\n",
       " '__dict__',\n",
       " '__dir__',\n",
       " '__doc__',\n",
       " '__eq__',\n",
       " '__format__',\n",
       " '__ge__',\n",
       " '__getattribute__',\n",
       " '__getstate__',\n",
       " '__gt__',\n",
       " '__hash__',\n",
       " '__init__',\n",
       " '__init_subclass__',\n",
       " '__le__',\n",
       " '__lt__',\n",
       " '__module__',\n",
       " '__ne__',\n",
       " '__new__',\n",
       " '__reduce__',\n",
       " '__reduce_ex__',\n",
       " '__repr__',\n",
       " '__setattr__',\n",
       " '__sizeof__',\n",
       " '__str__',\n",
       " '__subclasshook__',\n",
       " '__weakref__',\n",
       " 'mob',\n",
       " 'name',\n",
       " 'query']"
      ]
     },
     "execution_count": 8,
     "metadata": {},
     "output_type": "execute_result"
    }
   ],
   "source": [
    "dir(tom)"
   ]
  },
  {
   "cell_type": "code",
   "execution_count": 9,
   "id": "2b98ad4a",
   "metadata": {},
   "outputs": [
    {
     "data": {
      "text/plain": [
       "{}"
      ]
     },
     "execution_count": 9,
     "metadata": {},
     "output_type": "execute_result"
    }
   ],
   "source": [
    "tom.__dict__"
   ]
  },
  {
   "cell_type": "code",
   "execution_count": 10,
   "id": "bdd2e642",
   "metadata": {},
   "outputs": [],
   "source": [
    "tom.mob = 1234"
   ]
  },
  {
   "cell_type": "code",
   "execution_count": 11,
   "id": "9df7c27a",
   "metadata": {},
   "outputs": [
    {
     "data": {
      "text/plain": [
       "<__main__.StudentForm at 0x28eb6893710>"
      ]
     },
     "execution_count": 11,
     "metadata": {},
     "output_type": "execute_result"
    }
   ],
   "source": [
    "tom"
   ]
  },
  {
   "cell_type": "code",
   "execution_count": 12,
   "id": "34f1548e",
   "metadata": {},
   "outputs": [
    {
     "ename": "TypeError",
     "evalue": "'StudentForm' object is not callable",
     "output_type": "error",
     "traceback": [
      "\u001b[1;31m---------------------------------------------------------------------------\u001b[0m",
      "\u001b[1;31mTypeError\u001b[0m                                 Traceback (most recent call last)",
      "Cell \u001b[1;32mIn[12], line 1\u001b[0m\n\u001b[1;32m----> 1\u001b[0m \u001b[43mtom\u001b[49m\u001b[43m(\u001b[49m\u001b[43m)\u001b[49m\n",
      "\u001b[1;31mTypeError\u001b[0m: 'StudentForm' object is not callable"
     ]
    }
   ],
   "source": []
  },
  {
   "cell_type": "code",
   "execution_count": null,
   "id": "84d7e372",
   "metadata": {},
   "outputs": [],
   "source": []
  }
 ],
 "metadata": {
  "kernelspec": {
   "display_name": "Python 3 (ipykernel)",
   "language": "python",
   "name": "python3"
  },
  "language_info": {
   "codemirror_mode": {
    "name": "ipython",
    "version": 3
   },
   "file_extension": ".py",
   "mimetype": "text/x-python",
   "name": "python",
   "nbconvert_exporter": "python",
   "pygments_lexer": "ipython3",
   "version": "3.11.0"
  }
 },
 "nbformat": 4,
 "nbformat_minor": 5
}
