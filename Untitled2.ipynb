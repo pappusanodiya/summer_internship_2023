{
 "cells": [
  {
   "cell_type": "code",
   "execution_count": 3,
   "id": "1dc9c1ed",
   "metadata": {},
   "outputs": [],
   "source": [
    "names = [ \"vimal\", \"pop\", \"raj\", \"rahul\", \"krish\" ]"
   ]
  },
  {
   "cell_type": "code",
   "execution_count": 4,
   "id": "6b037be5",
   "metadata": {},
   "outputs": [
    {
     "data": {
      "text/plain": [
       "True"
      ]
     },
     "execution_count": 4,
     "metadata": {},
     "output_type": "execute_result"
    }
   ],
   "source": [
    "\"rahul\" in names"
   ]
  },
  {
   "cell_type": "code",
   "execution_count": 5,
   "id": "dabbe3a8",
   "metadata": {},
   "outputs": [
    {
     "data": {
      "text/plain": [
       "False"
      ]
     },
     "execution_count": 5,
     "metadata": {},
     "output_type": "execute_result"
    }
   ],
   "source": [
    "\"harry\" in names"
   ]
  },
  {
   "cell_type": "code",
   "execution_count": 6,
   "id": "102f8f66",
   "metadata": {},
   "outputs": [
    {
     "name": "stdout",
     "output_type": "stream",
     "text": [
      "tasks for you\n"
     ]
    }
   ],
   "source": [
    "if \"rahul\" in names:\n",
    "    print(\"tasks for you\")\n",
    "else:\n",
    "    print(\"me to take the class\")"
   ]
  },
  {
   "cell_type": "code",
   "execution_count": 12,
   "id": "71e8d2bb",
   "metadata": {},
   "outputs": [],
   "source": [
    "s = \"this is linux world\""
   ]
  },
  {
   "cell_type": "code",
   "execution_count": 13,
   "id": "2ef4bd39",
   "metadata": {},
   "outputs": [
    {
     "data": {
      "text/plain": [
       "'this is linux world'"
      ]
     },
     "execution_count": 13,
     "metadata": {},
     "output_type": "execute_result"
    }
   ],
   "source": [
    "s"
   ]
  },
  {
   "cell_type": "code",
   "execution_count": 14,
   "id": "7f6b0899",
   "metadata": {},
   "outputs": [
    {
     "data": {
      "text/plain": [
       "True"
      ]
     },
     "execution_count": 14,
     "metadata": {},
     "output_type": "execute_result"
    }
   ],
   "source": [
    "\"linux\" in s"
   ]
  },
  {
   "cell_type": "code",
   "execution_count": 15,
   "id": "af3e303e",
   "metadata": {},
   "outputs": [
    {
     "data": {
      "text/plain": [
       "False"
      ]
     },
     "execution_count": 15,
     "metadata": {},
     "output_type": "execute_result"
    }
   ],
   "source": [
    "\"vimal\" in s"
   ]
  },
  {
   "cell_type": "code",
   "execution_count": 17,
   "id": "7391845e",
   "metadata": {},
   "outputs": [
    {
     "data": {
      "text/plain": [
       "(True, True)"
      ]
     },
     "execution_count": 17,
     "metadata": {},
     "output_type": "execute_result"
    }
   ],
   "source": [
    "\"linux\" in s, world\" in s"
   ]
  },
  {
   "cell_type": "code",
   "execution_count": 25,
   "id": "3b2638c2",
   "metadata": {},
   "outputs": [
    {
     "data": {
      "text/plain": [
       "False"
      ]
     },
     "execution_count": 25,
     "metadata": {},
     "output_type": "execute_result"
    }
   ],
   "source": [
    "(\"linux\" in s) and  not ( \"world\" in s )"
   ]
  },
  {
   "cell_type": "code",
   "execution_count": 19,
   "id": "f2556a16",
   "metadata": {},
   "outputs": [
    {
     "data": {
      "text/plain": [
       "False"
      ]
     },
     "execution_count": 19,
     "metadata": {},
     "output_type": "execute_result"
    }
   ],
   "source": [
    "# and logical operator\n",
    "\n",
    "5 > 2 and 1 > 4"
   ]
  },
  {
   "cell_type": "code",
   "execution_count": 21,
   "id": "35152a7c",
   "metadata": {},
   "outputs": [
    {
     "data": {
      "text/plain": [
       "False"
      ]
     },
     "execution_count": 21,
     "metadata": {},
     "output_type": "execute_result"
    }
   ],
   "source": [
    "( 5 > 2 ) & ( 1 > 4 )"
   ]
  },
  {
   "cell_type": "code",
   "execution_count": 23,
   "id": "56dcccb6",
   "metadata": {},
   "outputs": [
    {
     "data": {
      "text/plain": [
       "False"
      ]
     },
     "execution_count": 23,
     "metadata": {},
     "output_type": "execute_result"
    }
   ],
   "source": [
    "not (5 > 2)"
   ]
  },
  {
   "cell_type": "code",
   "execution_count": null,
   "id": "258bca1e",
   "metadata": {},
   "outputs": [],
   "source": []
  }
 ],
 "metadata": {
  "kernelspec": {
   "display_name": "Python 3 (ipykernel)",
   "language": "python",
   "name": "python3"
  },
  "language_info": {
   "codemirror_mode": {
    "name": "ipython",
    "version": 3
   },
   "file_extension": ".py",
   "mimetype": "text/x-python",
   "name": "python",
   "nbconvert_exporter": "python",
   "pygments_lexer": "ipython3",
   "version": "3.11.0"
  }
 },
 "nbformat": 4,
 "nbformat_minor": 5
}
