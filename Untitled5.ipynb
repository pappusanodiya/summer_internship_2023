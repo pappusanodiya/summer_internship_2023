{
 "cells": [
  {
   "cell_type": "code",
   "execution_count": null,
   "id": "b18281bd",
   "metadata": {},
   "outputs": [
    {
     "name": "stdout",
     "output_type": "stream",
     "text": [
      "\t\t\twelcome to Linux world\n",
      "\t\t\t ------------------------\n",
      "\n",
      "    Press 1: To see date\n",
      "    Press 2: To check cal\n",
      "    Press 3: To setup account\n",
      "    Press 4: To create file\n",
      "    Press 5: To open web browser\n",
      "    Press 6: To exit\n",
      "    \n",
      "Enter your Choice : 1\n",
      "1\n",
      "press enter to cont ........2\n",
      "\n",
      "    Press 1: To see date\n",
      "    Press 2: To check cal\n",
      "    Press 3: To setup account\n",
      "    Press 4: To create file\n",
      "    Press 5: To open web browser\n",
      "    Press 6: To exit\n",
      "    \n"
     ]
    }
   ],
   "source": [
    "import os\n",
    "import pyttsx3\n",
    "\n",
    "os.system(\"tput setaf 1\")\n",
    "print(\"\\t\\t\\twelcome to Linux world\")\n",
    "\n",
    "os.system(\"tput setaf 7\")\n",
    "print(\"\\t\\t\\t ------------------------\")\n",
    "\n",
    "\n",
    "while True:\n",
    "    print(\"\"\"\n",
    "    Press 1: To see date\n",
    "    Press 2: To check cal\n",
    "    Press 3: To setup account\n",
    "    Press 4: To create file\n",
    "    Press 5: To open web browser\n",
    "    Press 6: To exit\n",
    "    \"\"\"\n",
    "    )\n",
    "\n",
    "    \"\"\"\n",
    "    myspeaker = pyttsx3.init()\n",
    "    myspeaker.say(\"Enter your Choice\")\n",
    "    myspeaker.runandSay()\n",
    "    \"\"\"\n",
    "\n",
    "    ch = input(\"Enter your Choice : \")\n",
    "    print(ch)\n",
    "\n",
    "\n",
    "    if int(ch) == 1:\n",
    "        os.system(\"date\")\n",
    "    elif int(ch) == 2:\n",
    "        print(\"cal\")\n",
    "    elif int(ch) == 3:\n",
    "        print(\"user\")\n",
    "    elif int(ch) == 4:\n",
    "        print(\"file\")\n",
    "    elif int(ch) == 5:\n",
    "        os.system(\"firefox\")\n",
    "    elif int(ch) == 6:\n",
    "        exit()\n",
    "    else:\n",
    "        print(\"no support\")\n",
    "\n",
    "    input(\"press enter to cont ........\")\n",
    "    os.system(\"clear\")\n",
    "\n"
   ]
  },
  {
   "cell_type": "code",
   "execution_count": null,
   "id": "ac7b0e6c",
   "metadata": {},
   "outputs": [],
   "source": []
  }
 ],
 "metadata": {
  "kernelspec": {
   "display_name": "Python 3 (ipykernel)",
   "language": "python",
   "name": "python3"
  },
  "language_info": {
   "codemirror_mode": {
    "name": "ipython",
    "version": 3
   },
   "file_extension": ".py",
   "mimetype": "text/x-python",
   "name": "python",
   "nbconvert_exporter": "python",
   "pygments_lexer": "ipython3",
   "version": "3.11.0"
  }
 },
 "nbformat": 4,
 "nbformat_minor": 5
}
