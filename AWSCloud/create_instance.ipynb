{
 "cells": [
  {
   "cell_type": "code",
   "execution_count": 3,
   "id": "cdf57d9a",
   "metadata": {},
   "outputs": [
    {
     "ename": "IndentationError",
     "evalue": "unexpected indent (330896670.py, line 7)",
     "output_type": "error",
     "traceback": [
      "\u001b[1;36m  Cell \u001b[1;32mIn[3], line 7\u001b[1;36m\u001b[0m\n\u001b[1;33m    response= myec2.create_instances(\u001b[0m\n\u001b[1;37m    ^\u001b[0m\n\u001b[1;31mIndentationError\u001b[0m\u001b[1;31m:\u001b[0m unexpected indent\n"
     ]
    }
   ],
   "source": [
    "import boto3\n",
    "\n",
    "\n",
    "def myec2():\n",
    "    myec2 = boto3.resource(\"ec2\")\n",
    "\n",
    "        response= myec2.create_instances(\n",
    "            ImageId='ami-05e411cf591b5c9f6',\n",
    "            InstanceType='t2.micro',\n",
    "            MaxCount=1,\n",
    "            MinCount=1\n",
    ")\n",
    "\n",
    "print(\"Your instance is launched: \", response)\n",
    "\n"
   ]
  },
  {
   "cell_type": "code",
   "execution_count": null,
   "id": "3d79ac70",
   "metadata": {},
   "outputs": [],
   "source": [
    "yum install httpd -y\n",
    "\n",
    "cd /var/www/html\n",
    "\n",
    "cat > index.html\n",
    "this is index file created by the automatically\n",
    "\n",
    "systemctl enable httpd --now\n",
    "\n",
    "\n"
   ]
  }
 ],
 "metadata": {
  "kernelspec": {
   "display_name": "Python 3 (ipykernel)",
   "language": "python",
   "name": "python3"
  },
  "language_info": {
   "codemirror_mode": {
    "name": "ipython",
    "version": 3
   },
   "file_extension": ".py",
   "mimetype": "text/x-python",
   "name": "python",
   "nbconvert_exporter": "python",
   "pygments_lexer": "ipython3",
   "version": "3.11.0"
  }
 },
 "nbformat": 4,
 "nbformat_minor": 5
}
