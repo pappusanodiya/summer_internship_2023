{
 "cells": [
  {
   "cell_type": "code",
   "execution_count": 1,
   "id": "12262e5e",
   "metadata": {},
   "outputs": [],
   "source": [
    "import boto3"
   ]
  },
  {
   "cell_type": "code",
   "execution_count": 3,
   "id": "59aeba29",
   "metadata": {},
   "outputs": [],
   "source": [
    "# which service we can to connect for this we use resource\n",
    "mysns = boto3.resource(\"sns\")"
   ]
  },
  {
   "cell_type": "code",
   "execution_count": null,
   "id": "89e510dc",
   "metadata": {},
   "outputs": [],
   "source": []
  }
 ],
 "metadata": {
  "kernelspec": {
   "display_name": "Python 3 (ipykernel)",
   "language": "python",
   "name": "python3"
  },
  "language_info": {
   "codemirror_mode": {
    "name": "ipython",
    "version": 3
   },
   "file_extension": ".py",
   "mimetype": "text/x-python",
   "name": "python",
   "nbconvert_exporter": "python",
   "pygments_lexer": "ipython3",
   "version": "3.11.0"
  }
 },
 "nbformat": 4,
 "nbformat_minor": 5
}
