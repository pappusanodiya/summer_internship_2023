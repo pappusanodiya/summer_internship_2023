{
 "cells": [
  {
   "cell_type": "code",
   "execution_count": 22,
   "id": "dcab46eb",
   "metadata": {},
   "outputs": [],
   "source": [
    "class SummerForm:\n",
    "    name = None\n",
    "    whatsapp = None\n",
    "    inquiry  = None"
   ]
  },
  {
   "cell_type": "code",
   "execution_count": 23,
   "id": "e8a5c661",
   "metadata": {},
   "outputs": [],
   "source": [
    "class JobForm:\n",
    "    name = None\n",
    "    Email = None\n",
    "    Exp = None"
   ]
  },
  {
   "cell_type": "code",
   "execution_count": 30,
   "id": "74910f8b",
   "metadata": {},
   "outputs": [],
   "source": [
    "# instanciatenN\n",
    "rahul = SummerForm()"
   ]
  },
  {
   "cell_type": "code",
   "execution_count": 25,
   "id": "d5559544",
   "metadata": {},
   "outputs": [],
   "source": [
    "rahul.name = \"Rahul Kumar\""
   ]
  },
  {
   "cell_type": "code",
   "execution_count": 26,
   "id": "47f310cf",
   "metadata": {},
   "outputs": [],
   "source": [
    "rahul.whatsapp = 234543"
   ]
  },
  {
   "cell_type": "code",
   "execution_count": 27,
   "id": "27e6e19e",
   "metadata": {},
   "outputs": [],
   "source": [
    "rahul.inquiry = \"I want to QC\""
   ]
  },
  {
   "cell_type": "code",
   "execution_count": 16,
   "id": "376e926d",
   "metadata": {},
   "outputs": [],
   "source": [
    "x = None"
   ]
  },
  {
   "cell_type": "code",
   "execution_count": 29,
   "id": "e543c0c2",
   "metadata": {},
   "outputs": [
    {
     "data": {
      "text/plain": [
       "<__main__.SummerForm at 0x295c45e66d0>"
      ]
     },
     "execution_count": 29,
     "metadata": {},
     "output_type": "execute_result"
    }
   ],
   "source": [
    "rahul"
   ]
  },
  {
   "cell_type": "raw",
   "id": "77f0afd5",
   "metadata": {},
   "source": []
  }
 ],
 "metadata": {
  "kernelspec": {
   "display_name": "Python 3 (ipykernel)",
   "language": "python",
   "name": "python3"
  },
  "language_info": {
   "codemirror_mode": {
    "name": "ipython",
    "version": 3
   },
   "file_extension": ".py",
   "mimetype": "text/x-python",
   "name": "python",
   "nbconvert_exporter": "python",
   "pygments_lexer": "ipython3",
   "version": "3.11.0"
  }
 },
 "nbformat": 4,
 "nbformat_minor": 5
}
