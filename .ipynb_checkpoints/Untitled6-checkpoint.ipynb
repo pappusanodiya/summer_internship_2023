{
 "cells": [
  {
   "cell_type": "code",
   "execution_count": 4,
   "id": "6b4d43cd",
   "metadata": {},
   "outputs": [],
   "source": [
    "fh = open(\"lwfile\", \"r\")"
   ]
  },
  {
   "cell_type": "code",
   "execution_count": 5,
   "id": "0deb9bd4",
   "metadata": {},
   "outputs": [
    {
     "data": {
      "text/plain": [
       "0"
      ]
     },
     "execution_count": 5,
     "metadata": {},
     "output_type": "execute_result"
    }
   ],
   "source": [
    "fh.tell()"
   ]
  },
  {
   "cell_type": "code",
   "execution_count": 6,
   "id": "212a0029",
   "metadata": {},
   "outputs": [
    {
     "data": {
      "text/plain": [
       "'this is linu world file \\nhtis is thi done \\nhr \\n\\nth'"
      ]
     },
     "execution_count": 6,
     "metadata": {},
     "output_type": "execute_result"
    }
   ],
   "source": [
    "fh.read()"
   ]
  },
  {
   "cell_type": "code",
   "execution_count": 11,
   "id": "448d680b",
   "metadata": {},
   "outputs": [
    {
     "data": {
      "text/plain": [
       "''"
      ]
     },
     "execution_count": 11,
     "metadata": {},
     "output_type": "execute_result"
    }
   ],
   "source": [
    "fh.read(6)"
   ]
  },
  {
   "cell_type": "code",
   "execution_count": 12,
   "id": "579132a5",
   "metadata": {},
   "outputs": [],
   "source": [
    "myfile = open(\"lwfile\", \"r\")"
   ]
  },
  {
   "cell_type": "code",
   "execution_count": 13,
   "id": "d7f8b7ba",
   "metadata": {},
   "outputs": [
    {
     "data": {
      "text/plain": [
       "'this is linu world file \\nhtis is thi done \\nhr \\n\\nth'"
      ]
     },
     "execution_count": 13,
     "metadata": {},
     "output_type": "execute_result"
    }
   ],
   "source": [
    "myfile.read()"
   ]
  },
  {
   "cell_type": "code",
   "execution_count": 14,
   "id": "350a0a8e",
   "metadata": {},
   "outputs": [],
   "source": [
    "# if you want to do line wise operation in python it is so simple to do \n"
   ]
  },
  {
   "cell_type": "code",
   "execution_count": 50,
   "id": "fd6d4ec6",
   "metadata": {},
   "outputs": [],
   "source": [
    "myfile.close()"
   ]
  },
  {
   "cell_type": "code",
   "execution_count": 51,
   "id": "97008011",
   "metadata": {},
   "outputs": [],
   "source": [
    "myfile = open(\"lwfile\", \"r\")"
   ]
  },
  {
   "cell_type": "code",
   "execution_count": 52,
   "id": "eccb4c19",
   "metadata": {},
   "outputs": [
    {
     "data": {
      "text/plain": [
       "'vimal 123 ok 5432124344\\npappu 133 good  5444354533\\nyash 3234 vgood 654333434'"
      ]
     },
     "execution_count": 52,
     "metadata": {},
     "output_type": "execute_result"
    }
   ],
   "source": [
    "myfile.read()"
   ]
  },
  {
   "cell_type": "code",
   "execution_count": 53,
   "id": "9dea834f",
   "metadata": {},
   "outputs": [],
   "source": [
    "for x in myfile:\n",
    "    print(x)"
   ]
  },
  {
   "cell_type": "code",
   "execution_count": 41,
   "id": "a91f4c7d",
   "metadata": {},
   "outputs": [],
   "source": [
    "a = [ 1, 2, 3]"
   ]
  },
  {
   "cell_type": "code",
   "execution_count": 42,
   "id": "5cb35d8b",
   "metadata": {},
   "outputs": [
    {
     "ename": "SyntaxError",
     "evalue": "incomplete input (3320288978.py, line 1)",
     "output_type": "error",
     "traceback": [
      "\u001b[1;36m  Cell \u001b[1;32mIn[42], line 1\u001b[1;36m\u001b[0m\n\u001b[1;33m    for x in a:\u001b[0m\n\u001b[1;37m               ^\u001b[0m\n\u001b[1;31mSyntaxError\u001b[0m\u001b[1;31m:\u001b[0m incomplete input\n"
     ]
    }
   ],
   "source": [
    "for x in a:"
   ]
  },
  {
   "cell_type": "code",
   "execution_count": 43,
   "id": "09d7a837",
   "metadata": {},
   "outputs": [],
   "source": [
    "s = \"this is linux world\""
   ]
  },
  {
   "cell_type": "code",
   "execution_count": 44,
   "id": "465f0c10",
   "metadata": {},
   "outputs": [
    {
     "data": {
      "text/plain": [
       "['this', 'is', 'linux', 'world']"
      ]
     },
     "execution_count": 44,
     "metadata": {},
     "output_type": "execute_result"
    }
   ],
   "source": [
    "s.split()"
   ]
  },
  {
   "cell_type": "code",
   "execution_count": 45,
   "id": "67a1d837",
   "metadata": {},
   "outputs": [
    {
     "data": {
      "text/plain": [
       "'world'"
      ]
     },
     "execution_count": 45,
     "metadata": {},
     "output_type": "execute_result"
    }
   ],
   "source": [
    "s.split()[3]"
   ]
  },
  {
   "cell_type": "code",
   "execution_count": 54,
   "id": "8f8a1b11",
   "metadata": {},
   "outputs": [],
   "source": [
    "for line in myfile:\n",
    "    print(line)"
   ]
  },
  {
   "cell_type": "code",
   "execution_count": null,
   "id": "a69c68e8",
   "metadata": {},
   "outputs": [],
   "source": []
  },
  {
   "cell_type": "code",
   "execution_count": 47,
   "id": "2d259b30",
   "metadata": {},
   "outputs": [
    {
     "name": "stdout",
     "output_type": "stream",
     "text": [
      "hi\n"
     ]
    }
   ],
   "source": [
    "print(\"hi\")"
   ]
  },
  {
   "cell_type": "code",
   "execution_count": 48,
   "id": "8e4ed387",
   "metadata": {},
   "outputs": [
    {
     "name": "stdout",
     "output_type": "stream",
     "text": [
      "hi\n"
     ]
    }
   ],
   "source": [
    "print(\"hi\",)"
   ]
  },
  {
   "cell_type": "code",
   "execution_count": 49,
   "id": "07d63ac1",
   "metadata": {},
   "outputs": [
    {
     "name": "stdout",
     "output_type": "stream",
     "text": [
      "hello\n"
     ]
    }
   ],
   "source": [
    "print(\"hello\", end='\\n')"
   ]
  },
  {
   "cell_type": "code",
   "execution_count": null,
   "id": "25849d9f",
   "metadata": {},
   "outputs": [],
   "source": [
    "print(\"hello\", )"
   ]
  }
 ],
 "metadata": {
  "kernelspec": {
   "display_name": "Python 3 (ipykernel)",
   "language": "python",
   "name": "python3"
  },
  "language_info": {
   "codemirror_mode": {
    "name": "ipython",
    "version": 3
   },
   "file_extension": ".py",
   "mimetype": "text/x-python",
   "name": "python",
   "nbconvert_exporter": "python",
   "pygments_lexer": "ipython3",
   "version": "3.11.0"
  }
 },
 "nbformat": 4,
 "nbformat_minor": 5
}
