{
 "cells": [
  {
   "cell_type": "code",
   "execution_count": 6,
   "id": "efb2e540",
   "metadata": {},
   "outputs": [],
   "source": [
    "import pyttsx3"
   ]
  },
  {
   "cell_type": "code",
   "execution_count": 7,
   "id": "7b70239f",
   "metadata": {},
   "outputs": [],
   "source": [
    "myspeaker = pyttsx3.init()"
   ]
  },
  {
   "cell_type": "code",
   "execution_count": 8,
   "id": "57fc0a6e",
   "metadata": {},
   "outputs": [],
   "source": [
    "myspeaker.say(\"welcome to the world\")"
   ]
  },
  {
   "cell_type": "code",
   "execution_count": 9,
   "id": "28338a6b",
   "metadata": {},
   "outputs": [],
   "source": [
    "myspeaker.runAndWait()"
   ]
  },
  {
   "cell_type": "code",
   "execution_count": 10,
   "id": "ddeabae2",
   "metadata": {},
   "outputs": [],
   "source": [
    "students = { \n",
    "        \"name\" : [\"vimal\", \"abhi\", \"rahul\"],\n",
    "        \"remarks\": [\"ok\", \"good\", \"vgood\"],\n",
    "         \"mob\": [ 1111, 2222, 33333, ]\n",
    "}"
   ]
  },
  {
   "cell_type": "code",
   "execution_count": 13,
   "id": "0033d121",
   "metadata": {},
   "outputs": [
    {
     "data": {
      "text/plain": [
       "[1111, 2222, 33333]"
      ]
     },
     "execution_count": 13,
     "metadata": {},
     "output_type": "execute_result"
    }
   ],
   "source": [
    "students[\"mob\"]"
   ]
  },
  {
   "cell_type": "code",
   "execution_count": 16,
   "id": "afaaba1b",
   "metadata": {},
   "outputs": [
    {
     "data": {
      "text/plain": [
       "{'name': ['vimal', 'abhi', 'rahul'],\n",
       " 'remarks': ['ok', 'good', 'vgood'],\n",
       " 'mob': [1111, 2222, 33333]}"
      ]
     },
     "execution_count": 16,
     "metadata": {},
     "output_type": "execute_result"
    }
   ],
   "source": [
    "students"
   ]
  },
  {
   "cell_type": "code",
   "execution_count": null,
   "id": "7c4e726a",
   "metadata": {},
   "outputs": [],
   "source": []
  }
 ],
 "metadata": {
  "kernelspec": {
   "display_name": "Python 3 (ipykernel)",
   "language": "python",
   "name": "python3"
  },
  "language_info": {
   "codemirror_mode": {
    "name": "ipython",
    "version": 3
   },
   "file_extension": ".py",
   "mimetype": "text/x-python",
   "name": "python",
   "nbconvert_exporter": "python",
   "pygments_lexer": "ipython3",
   "version": "3.11.0"
  }
 },
 "nbformat": 4,
 "nbformat_minor": 5
}
