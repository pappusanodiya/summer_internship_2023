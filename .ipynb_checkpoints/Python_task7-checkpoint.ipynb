{
 "cells": [
  {
   "cell_type": "code",
   "execution_count": 2,
   "id": "2ce3a9e1",
   "metadata": {},
   "outputs": [],
   "source": [
    "import numpy as np"
   ]
  },
  {
   "cell_type": "code",
   "execution_count": 15,
   "id": "0e3c90a8",
   "metadata": {},
   "outputs": [],
   "source": [
    "x = np.array([\n",
    "    \n",
    "    [\"Name\",      \"City\",       \"Mobile_Number\" ],\n",
    "    [\"Pappu\",     \"Jabalpur\",      7354541737 ],\n",
    "    [\"Deepali\",   \"Indore\",        8109673599 ],\n",
    "    [\"Priyansh\",  \"Bareli\",        6756744674 ],\n",
    "    [\"Prerit\",    \"Odisha\",        3234567897 ],\n",
    "    [\"Atul\",      \"bhubaneswar \",  9876543456 ]\n",
    "       \n",
    "    ])"
   ]
  },
  {
   "cell_type": "code",
   "execution_count": 16,
   "id": "9ca91ad1",
   "metadata": {},
   "outputs": [
    {
     "data": {
      "text/plain": [
       "array(['Mobile_Number', '7354541737', '8109673599', '6756744674',\n",
       "       '3234567897', '9876543456'], dtype='<U21')"
      ]
     },
     "execution_count": 16,
     "metadata": {},
     "output_type": "execute_result"
    }
   ],
   "source": [
    "x[: , 2]"
   ]
  },
  {
   "cell_type": "code",
   "execution_count": 23,
   "id": "d35541ca",
   "metadata": {},
   "outputs": [],
   "source": [
    "class Team18:\n",
    "    \n",
    "    name = None\n",
    "    city = None\n",
    "    mobile_number = None\n",
    "    \n",
    "    def __init__(self, name, city, mobile_number):\n",
    "        self.name = name\n",
    "        self.city = city\n",
    "        self.mobile_number= mobile_number\n",
    "        print(\"welcome\")\n",
    "        "
   ]
  },
  {
   "cell_type": "code",
   "execution_count": 24,
   "id": "a361abc6",
   "metadata": {},
   "outputs": [
    {
     "name": "stdout",
     "output_type": "stream",
     "text": [
      "welcome\n"
     ]
    }
   ],
   "source": [
    "Pappu = Team18(x[1,0],x[1,1],x[1,2])"
   ]
  },
  {
   "cell_type": "code",
   "execution_count": 29,
   "id": "c6096bf9",
   "metadata": {},
   "outputs": [
    {
     "data": {
      "text/plain": [
       "{'name': 'Pappu', 'city': 'Jabalpur', 'mobile_number': '7354541737'}"
      ]
     },
     "execution_count": 29,
     "metadata": {},
     "output_type": "execute_result"
    }
   ],
   "source": [
    "Pappu.__dict__"
   ]
  },
  {
   "cell_type": "code",
   "execution_count": 33,
   "id": "0423fc8c",
   "metadata": {},
   "outputs": [
    {
     "name": "stdout",
     "output_type": "stream",
     "text": [
      "welcome\n",
      "welcome\n",
      "welcome\n",
      "welcome\n"
     ]
    }
   ],
   "source": [
    "Deepali = Team18(x[2,0],x[2,1],x[2,2])\n",
    "Priyansh = Team18(x[3,0],x[3,1],x[3,2])\n",
    "Prerit = Team18(x[4,0],x[4,1],x[4,2])\n",
    "Atul = Team18(x[5,0],x[5,1],x[5,2])"
   ]
  },
  {
   "cell_type": "code",
   "execution_count": 34,
   "id": "925574fe",
   "metadata": {},
   "outputs": [
    {
     "data": {
      "text/plain": [
       "{'name': 'Deepali', 'city': 'Indore', 'mobile_number': '8109673599'}"
      ]
     },
     "execution_count": 34,
     "metadata": {},
     "output_type": "execute_result"
    }
   ],
   "source": [
    "Deepali.__dict__"
   ]
  },
  {
   "cell_type": "code",
   "execution_count": 35,
   "id": "79d2f359",
   "metadata": {},
   "outputs": [
    {
     "data": {
      "text/plain": [
       "{'name': 'Priyansh', 'city': 'Bareli', 'mobile_number': '6756744674'}"
      ]
     },
     "execution_count": 35,
     "metadata": {},
     "output_type": "execute_result"
    }
   ],
   "source": [
    "Priyansh.__dict__"
   ]
  },
  {
   "cell_type": "code",
   "execution_count": 36,
   "id": "755f850e",
   "metadata": {},
   "outputs": [
    {
     "data": {
      "text/plain": [
       "{'name': 'Prerit', 'city': 'Odisha', 'mobile_number': '3234567897'}"
      ]
     },
     "execution_count": 36,
     "metadata": {},
     "output_type": "execute_result"
    }
   ],
   "source": [
    "Prerit.__dict__"
   ]
  },
  {
   "cell_type": "code",
   "execution_count": 37,
   "id": "b01d4b0c",
   "metadata": {},
   "outputs": [
    {
     "data": {
      "text/plain": [
       "{'name': 'Atul', 'city': 'bhubaneswar ', 'mobile_number': '9876543456'}"
      ]
     },
     "execution_count": 37,
     "metadata": {},
     "output_type": "execute_result"
    }
   ],
   "source": [
    "Atul.__dict__"
   ]
  },
  {
   "cell_type": "code",
   "execution_count": null,
   "id": "1b4e11a3",
   "metadata": {},
   "outputs": [],
   "source": []
  }
 ],
 "metadata": {
  "kernelspec": {
   "display_name": "Python 3 (ipykernel)",
   "language": "python",
   "name": "python3"
  },
  "language_info": {
   "codemirror_mode": {
    "name": "ipython",
    "version": 3
   },
   "file_extension": ".py",
   "mimetype": "text/x-python",
   "name": "python",
   "nbconvert_exporter": "python",
   "pygments_lexer": "ipython3",
   "version": "3.11.0"
  }
 },
 "nbformat": 4,
 "nbformat_minor": 5
}
