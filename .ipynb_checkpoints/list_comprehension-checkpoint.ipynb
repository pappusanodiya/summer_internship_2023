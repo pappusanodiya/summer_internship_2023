{
 "cells": [
  {
   "cell_type": "code",
   "execution_count": 1,
   "id": "58c24b90",
   "metadata": {},
   "outputs": [],
   "source": [
    "a = [ 1, 2, 3 ]"
   ]
  },
  {
   "cell_type": "code",
   "execution_count": 3,
   "id": "6692fd7f",
   "metadata": {},
   "outputs": [
    {
     "name": "stdout",
     "output_type": "stream",
     "text": [
      "1\n",
      "2\n",
      "3\n"
     ]
    }
   ],
   "source": [
    "for i in a:\n",
    "    print(i)"
   ]
  },
  {
   "cell_type": "code",
   "execution_count": 11,
   "id": "117ff2df",
   "metadata": {},
   "outputs": [
    {
     "data": {
      "text/plain": [
       "[10, 13, 16, 19, 22, 25, 28, 31, 34, 37, 40, 43, 46, 49]"
      ]
     },
     "execution_count": 11,
     "metadata": {},
     "output_type": "execute_result"
    }
   ],
   "source": [
    "# lower limit , upper limit , steps \n",
    "\n",
    "list (range(10, 50, 3))"
   ]
  },
  {
   "cell_type": "code",
   "execution_count": 13,
   "id": "e98982d5",
   "metadata": {},
   "outputs": [
    {
     "name": "stdout",
     "output_type": "stream",
     "text": [
      "2\n",
      "4\n",
      "6\n",
      "8\n",
      "10\n",
      "12\n",
      "14\n",
      "16\n",
      "18\n",
      "20\n"
     ]
    }
   ],
   "source": [
    "for i in range(1,11):\n",
    "    print(i*2)"
   ]
  },
  {
   "cell_type": "code",
   "execution_count": 76,
   "id": "0357e873",
   "metadata": {},
   "outputs": [],
   "source": [
    "def lw():\n",
    "    # range: mob 1 2 3 4 5\n",
    "    for i in range(1, 6):\n",
    "        # mob send msg\n",
    "        return (i)  "
   ]
  },
  {
   "cell_type": "code",
   "execution_count": 78,
   "id": "38edac46",
   "metadata": {},
   "outputs": [],
   "source": [
    "def lw():\n",
    "    # range: mob 1 2 3 4 5\n",
    "    for i in range(1, 6):\n",
    "        # mob send msg\n",
    "        yield (i)  "
   ]
  },
  {
   "cell_type": "code",
   "execution_count": 92,
   "id": "1a3b23d7",
   "metadata": {},
   "outputs": [],
   "source": [
    "b = lw()"
   ]
  },
  {
   "cell_type": "code",
   "execution_count": 93,
   "id": "7540d311",
   "metadata": {},
   "outputs": [
    {
     "data": {
      "text/plain": [
       "1"
      ]
     },
     "execution_count": 93,
     "metadata": {},
     "output_type": "execute_result"
    }
   ],
   "source": [
    "next(b)"
   ]
  },
  {
   "cell_type": "code",
   "execution_count": 23,
   "id": "e4237231",
   "metadata": {},
   "outputs": [],
   "source": [
    "def hello():\n",
    "    print(\"hello\")"
   ]
  },
  {
   "cell_type": "code",
   "execution_count": 24,
   "id": "eb7ddae6",
   "metadata": {},
   "outputs": [
    {
     "name": "stdout",
     "output_type": "stream",
     "text": [
      "hello\n"
     ]
    }
   ],
   "source": [
    "hello()"
   ]
  },
  {
   "cell_type": "code",
   "execution_count": 96,
   "id": "34bf25e7",
   "metadata": {},
   "outputs": [],
   "source": [
    "#list comprehensions\n",
    "a = [ i*i for i in range(5) if i != 3]"
   ]
  },
  {
   "cell_type": "code",
   "execution_count": 97,
   "id": "dbe85ee9",
   "metadata": {},
   "outputs": [
    {
     "data": {
      "text/plain": [
       "[0, 1, 4, 16]"
      ]
     },
     "execution_count": 97,
     "metadata": {},
     "output_type": "execute_result"
    }
   ],
   "source": [
    "a"
   ]
  },
  {
   "cell_type": "code",
   "execution_count": 98,
   "id": "e9e3602e",
   "metadata": {},
   "outputs": [
    {
     "ename": "SyntaxError",
     "evalue": "incomplete input (3721803510.py, line 3)",
     "output_type": "error",
     "traceback": [
      "\u001b[1;36m  Cell \u001b[1;32mIn[98], line 3\u001b[1;36m\u001b[0m\n\u001b[1;33m    \u001b[0m\n\u001b[1;37m    ^\u001b[0m\n\u001b[1;31mSyntaxError\u001b[0m\u001b[1;31m:\u001b[0m incomplete input\n"
     ]
    }
   ],
   "source": [
    "a = []\n",
    "for i in range(5):\n",
    "    "
   ]
  },
  {
   "cell_type": "code",
   "execution_count": 102,
   "id": "1e04cbc1",
   "metadata": {},
   "outputs": [
    {
     "data": {
      "text/plain": [
       "['harry@gmail.com', 'vimal@gmail.com', 'pop@gmail.com']"
      ]
     },
     "execution_count": 102,
     "metadata": {},
     "output_type": "execute_result"
    }
   ],
   "source": [
    "[i + \"@gmail.com\" for i in [\"harry\", \"vimal\", \"pop\"]]"
   ]
  },
  {
   "cell_type": "code",
   "execution_count": 105,
   "id": "26d2727a",
   "metadata": {},
   "outputs": [],
   "source": [
    "exp = 3\n",
    "if exp >= 5:\n",
    "    job = \"ok\"\n",
    "    \n",
    "else:\n",
    "    job = \"not ok\""
   ]
  },
  {
   "cell_type": "code",
   "execution_count": 106,
   "id": "38cd568d",
   "metadata": {},
   "outputs": [
    {
     "data": {
      "text/plain": [
       "'not ok'"
      ]
     },
     "execution_count": 106,
     "metadata": {},
     "output_type": "execute_result"
    }
   ],
   "source": [
    "job"
   ]
  },
  {
   "cell_type": "code",
   "execution_count": 109,
   "id": "153bf499",
   "metadata": {},
   "outputs": [],
   "source": []
  },
  {
   "cell_type": "code",
   "execution_count": 113,
   "id": "269c459b",
   "metadata": {},
   "outputs": [],
   "source": [
    "exp = 1\n",
    "job = \"ok\" if exp >= 5 else \"not ok\""
   ]
  },
  {
   "cell_type": "code",
   "execution_count": 114,
   "id": "46aa970e",
   "metadata": {},
   "outputs": [
    {
     "data": {
      "text/plain": [
       "'not ok'"
      ]
     },
     "execution_count": 114,
     "metadata": {},
     "output_type": "execute_result"
    }
   ],
   "source": [
    "job"
   ]
  },
  {
   "cell_type": "code",
   "execution_count": null,
   "id": "77432baa",
   "metadata": {},
   "outputs": [],
   "source": []
  }
 ],
 "metadata": {
  "kernelspec": {
   "display_name": "Python 3 (ipykernel)",
   "language": "python",
   "name": "python3"
  },
  "language_info": {
   "codemirror_mode": {
    "name": "ipython",
    "version": 3
   },
   "file_extension": ".py",
   "mimetype": "text/x-python",
   "name": "python",
   "nbconvert_exporter": "python",
   "pygments_lexer": "ipython3",
   "version": "3.11.0"
  }
 },
 "nbformat": 4,
 "nbformat_minor": 5
}
