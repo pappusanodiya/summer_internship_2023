{
 "cells": [
  {
   "cell_type": "code",
   "execution_count": 1,
   "id": "d6d71f5a",
   "metadata": {},
   "outputs": [],
   "source": [
    "db = [ 1, \"vimal\", [56465, 11111]]"
   ]
  },
  {
   "cell_type": "code",
   "execution_count": 4,
   "id": "377164f0",
   "metadata": {},
   "outputs": [],
   "source": [
    "# shallow copy\n",
    "lwdb = copy.copy(db)"
   ]
  },
  {
   "cell_type": "code",
   "execution_count": 3,
   "id": "0ea6764d",
   "metadata": {},
   "outputs": [],
   "source": [
    "import copy"
   ]
  },
  {
   "cell_type": "code",
   "execution_count": 5,
   "id": "af7dadf8",
   "metadata": {},
   "outputs": [
    {
     "data": {
      "text/plain": [
       "[1, 'vimal', [56465, 11111]]"
      ]
     },
     "execution_count": 5,
     "metadata": {},
     "output_type": "execute_result"
    }
   ],
   "source": [
    "db"
   ]
  },
  {
   "cell_type": "code",
   "execution_count": 7,
   "id": "15f92cf9",
   "metadata": {},
   "outputs": [],
   "source": [
    "lwdb[0]= 111"
   ]
  },
  {
   "cell_type": "code",
   "execution_count": 8,
   "id": "72bfa25f",
   "metadata": {},
   "outputs": [
    {
     "data": {
      "text/plain": [
       "[1, 'vimal', [56465, 11111]]"
      ]
     },
     "execution_count": 8,
     "metadata": {},
     "output_type": "execute_result"
    }
   ],
   "source": [
    "db"
   ]
  },
  {
   "cell_type": "code",
   "execution_count": 9,
   "id": "51526b4f",
   "metadata": {},
   "outputs": [],
   "source": [
    "# deep copy\n",
    "vimaldb = copy.deepcopy(db)"
   ]
  },
  {
   "cell_type": "code",
   "execution_count": 10,
   "id": "906bd281",
   "metadata": {},
   "outputs": [
    {
     "data": {
      "text/plain": [
       "[1, 'vimal', [56465, 11111]]"
      ]
     },
     "execution_count": 10,
     "metadata": {},
     "output_type": "execute_result"
    }
   ],
   "source": [
    "vimaldb"
   ]
  },
  {
   "cell_type": "code",
   "execution_count": 12,
   "id": "34ddc7ab",
   "metadata": {},
   "outputs": [],
   "source": [
    "vimaldb[2][0] = 6666"
   ]
  },
  {
   "cell_type": "code",
   "execution_count": 13,
   "id": "1ea2d588",
   "metadata": {},
   "outputs": [
    {
     "data": {
      "text/plain": [
       "[1, 'vimal', [6666, 11111]]"
      ]
     },
     "execution_count": 13,
     "metadata": {},
     "output_type": "execute_result"
    }
   ],
   "source": [
    "vimaldb"
   ]
  },
  {
   "cell_type": "code",
   "execution_count": 14,
   "id": "954d0bb3",
   "metadata": {},
   "outputs": [
    {
     "data": {
      "text/plain": [
       "[1, 'vimal', [56465, 11111]]"
      ]
     },
     "execution_count": 14,
     "metadata": {},
     "output_type": "execute_result"
    }
   ],
   "source": [
    "db"
   ]
  },
  {
   "cell_type": "code",
   "execution_count": 21,
   "id": "674dd8dc",
   "metadata": {},
   "outputs": [
    {
     "name": "stdout",
     "output_type": "stream",
     "text": [
      "Hii\n"
     ]
    }
   ],
   "source": [
    "def lw():\n",
    "    x = 5 \n",
    "    print(x)\n",
    "    z = x + 6\n",
    "    print(z)\n",
    "    \n",
    "print(\"Hii\")\n"
   ]
  },
  {
   "cell_type": "code",
   "execution_count": 20,
   "id": "310bc303",
   "metadata": {},
   "outputs": [],
   "source": [
    "# when ever we need code again and again we put code in box and we give this box a name is function\n",
    "# indentation  by this python function know this is part of function \n",
    "# if you want to run in future you have to call by giving the name of function\n"
   ]
  },
  {
   "cell_type": "code",
   "execution_count": 26,
   "id": "0c7f5a44",
   "metadata": {},
   "outputs": [],
   "source": [
    "def my():\n",
    "    print(\"i am vimal\")\n",
    "    print(\"hee\")"
   ]
  },
  {
   "cell_type": "code",
   "execution_count": 27,
   "id": "0dcfda25",
   "metadata": {},
   "outputs": [],
   "source": [
    "hello = my\n",
    "# assign function name to variable"
   ]
  },
  {
   "cell_type": "code",
   "execution_count": 28,
   "id": "f8bfdde6",
   "metadata": {},
   "outputs": [
    {
     "data": {
      "text/plain": [
       "<function __main__.my()>"
      ]
     },
     "execution_count": 28,
     "metadata": {},
     "output_type": "execute_result"
    }
   ],
   "source": [
    "my "
   ]
  },
  {
   "cell_type": "code",
   "execution_count": 29,
   "id": "bee66235",
   "metadata": {},
   "outputs": [
    {
     "name": "stdout",
     "output_type": "stream",
     "text": [
      "i am vimal\n",
      "hee\n"
     ]
    }
   ],
   "source": [
    "my()\n",
    "# for run the function"
   ]
  },
  {
   "cell_type": "code",
   "execution_count": 30,
   "id": "46bd5069",
   "metadata": {},
   "outputs": [
    {
     "name": "stdout",
     "output_type": "stream",
     "text": [
      "i am vimal\n",
      "hee\n"
     ]
    }
   ],
   "source": [
    "hello()"
   ]
  },
  {
   "cell_type": "code",
   "execution_count": 55,
   "id": "0ce071ed",
   "metadata": {},
   "outputs": [],
   "source": [
    "# print keyword print only \n",
    "\n",
    "def lw(x , y, x ):\n",
    "    print(x)\n",
    "    return(\"hello\", x)\n",
    "    \n",
    "    "
   ]
  },
  {
   "cell_type": "code",
   "execution_count": 56,
   "id": "b81e686f",
   "metadata": {},
   "outputs": [],
   "source": [
    "\n",
    "# in variable we print only when we return in function"
   ]
  },
  {
   "cell_type": "code",
   "execution_count": 57,
   "id": "5fffad44",
   "metadata": {},
   "outputs": [
    {
     "data": {
      "text/plain": [
       "'jack'"
      ]
     },
     "execution_count": 57,
     "metadata": {},
     "output_type": "execute_result"
    }
   ],
   "source": [
    "y"
   ]
  },
  {
   "cell_type": "code",
   "execution_count": 58,
   "id": "30afb21d",
   "metadata": {},
   "outputs": [
    {
     "name": "stdout",
     "output_type": "stream",
     "text": [
      "pop\n"
     ]
    }
   ],
   "source": [
    "p = lw(\"pop\")"
   ]
  },
  {
   "cell_type": "code",
   "execution_count": 59,
   "id": "78fd59d4",
   "metadata": {},
   "outputs": [
    {
     "name": "stdout",
     "output_type": "stream",
     "text": [
      "hi jack\n"
     ]
    }
   ],
   "source": [
    "print(\"hi\", y)"
   ]
  },
  {
   "cell_type": "code",
   "execution_count": 60,
   "id": "ba438379",
   "metadata": {},
   "outputs": [
    {
     "data": {
      "text/plain": [
       "('hello', 'pop')"
      ]
     },
     "execution_count": 60,
     "metadata": {},
     "output_type": "execute_result"
    }
   ],
   "source": [
    "p"
   ]
  },
  {
   "cell_type": "code",
   "execution_count": 66,
   "id": "488f91b5",
   "metadata": {},
   "outputs": [],
   "source": [
    "# after return what ever we run that will not run that's why we have to write return in the last\n",
    "\n",
    "def mysum(x, y, z):\n",
    "    p = x +  + z \n",
    "    return p\n",
    "    print(\"hi\")"
   ]
  },
  {
   "cell_type": "code",
   "execution_count": 67,
   "id": "933b7f42",
   "metadata": {},
   "outputs": [
    {
     "data": {
      "text/plain": [
       "9"
      ]
     },
     "execution_count": 67,
     "metadata": {},
     "output_type": "execute_result"
    }
   ],
   "source": [
    "# we have to pass three argument\n",
    "\n",
    "mysum(3, 5, 6)"
   ]
  },
  {
   "cell_type": "code",
   "execution_count": 68,
   "id": "09adb558",
   "metadata": {},
   "outputs": [],
   "source": [
    "# single responsibility principle  every function have one responsibility\n"
   ]
  },
  {
   "cell_type": "code",
   "execution_count": 70,
   "id": "bb4f946d",
   "metadata": {},
   "outputs": [],
   "source": [
    "# iteration:   pick one do something and pick again and do ..........\n",
    "\n",
    "mob = [ 111, 222, 333, 444]"
   ]
  },
  {
   "cell_type": "code",
   "execution_count": 75,
   "id": "a52a6334",
   "metadata": {},
   "outputs": [
    {
     "name": "stdout",
     "output_type": "stream",
     "text": [
      "111\n",
      "222\n",
      "333\n",
      "444\n"
     ]
    }
   ],
   "source": [
    "# iteration\n",
    "# we have to use indentation here also\n",
    "\n",
    "for x in mob:\n",
    "    print(x)"
   ]
  },
  {
   "cell_type": "code",
   "execution_count": 76,
   "id": "c7dc925c",
   "metadata": {},
   "outputs": [],
   "source": [
    "# task1 : how to send message on whatsapp\n",
    "# task2:  find out the python library to send email how to send email\n",
    "# task3: find out how to send the send the text message"
   ]
  },
  {
   "cell_type": "code",
   "execution_count": null,
   "id": "2fff9c07",
   "metadata": {},
   "outputs": [],
   "source": []
  }
 ],
 "metadata": {
  "kernelspec": {
   "display_name": "Python 3 (ipykernel)",
   "language": "python",
   "name": "python3"
  },
  "language_info": {
   "codemirror_mode": {
    "name": "ipython",
    "version": 3
   },
   "file_extension": ".py",
   "mimetype": "text/x-python",
   "name": "python",
   "nbconvert_exporter": "python",
   "pygments_lexer": "ipython3",
   "version": "3.11.0"
  }
 },
 "nbformat": 4,
 "nbformat_minor": 5
}
