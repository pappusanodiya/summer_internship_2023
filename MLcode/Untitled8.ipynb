{
 "cells": [
  {
   "cell_type": "code",
   "execution_count": 67,
   "id": "7680dd3d",
   "metadata": {},
   "outputs": [],
   "source": [
    "import cv2"
   ]
  },
  {
   "cell_type": "code",
   "execution_count": 68,
   "id": "12628c90",
   "metadata": {},
   "outputs": [
    {
     "data": {
      "text/plain": [
       "< cv2.VideoCapture 0000024BE1B5A350>"
      ]
     },
     "execution_count": 68,
     "metadata": {},
     "output_type": "execute_result"
    }
   ],
   "source": [
    "cv2.VideoCapture(0)"
   ]
  },
  {
   "cell_type": "code",
   "execution_count": 69,
   "id": "493ab71d",
   "metadata": {},
   "outputs": [],
   "source": [
    "cap = cv2.VideoCapture(0)"
   ]
  },
  {
   "cell_type": "code",
   "execution_count": 70,
   "id": "524d32da",
   "metadata": {},
   "outputs": [],
   "source": [
    "status , photo = cap.read()"
   ]
  },
  {
   "cell_type": "code",
   "execution_count": 71,
   "id": "3ed61b8a",
   "metadata": {},
   "outputs": [
    {
     "data": {
      "text/plain": [
       "True"
      ]
     },
     "execution_count": 71,
     "metadata": {},
     "output_type": "execute_result"
    }
   ],
   "source": [
    "status"
   ]
  },
  {
   "cell_type": "code",
   "execution_count": 72,
   "id": "9ce95fb6",
   "metadata": {},
   "outputs": [
    {
     "data": {
      "text/plain": [
       "array([[[138, 111, 109],\n",
       "        [136, 108, 111],\n",
       "        [135, 105, 115],\n",
       "        ...,\n",
       "        [ 81,  53,  57],\n",
       "        [ 84,  55,  60],\n",
       "        [ 84,  55,  60]],\n",
       "\n",
       "       [[134, 106, 108],\n",
       "        [130, 100, 107],\n",
       "        [132, 102, 116],\n",
       "        ...,\n",
       "        [ 84,  56,  63],\n",
       "        [ 86,  57,  62],\n",
       "        [ 81,  53,  57]],\n",
       "\n",
       "       [[133, 101, 104],\n",
       "        [135, 101, 109],\n",
       "        [136, 100, 115],\n",
       "        ...,\n",
       "        [ 92,  62,  72],\n",
       "        [ 79,  55,  64],\n",
       "        [ 78,  53,  62]],\n",
       "\n",
       "       ...,\n",
       "\n",
       "       [[ 74,  44,  58],\n",
       "        [ 75,  43,  53],\n",
       "        [ 81,  48,  53],\n",
       "        ...,\n",
       "        [113,  59,  55],\n",
       "        [110,  56,  52],\n",
       "        [104,  51,  46]],\n",
       "\n",
       "       [[ 74,  44,  58],\n",
       "        [ 83,  51,  63],\n",
       "        [102,  68,  78],\n",
       "        ...,\n",
       "        [107,  53,  49],\n",
       "        [104,  51,  46],\n",
       "        [104,  51,  46]],\n",
       "\n",
       "       [[ 77,  46,  60],\n",
       "        [ 92,  58,  70],\n",
       "        [109,  71,  81],\n",
       "        ...,\n",
       "        [106,  53,  49],\n",
       "        [107,  53,  49],\n",
       "        [107,  53,  49]]], dtype=uint8)"
      ]
     },
     "execution_count": 72,
     "metadata": {},
     "output_type": "execute_result"
    }
   ],
   "source": [
    "photo"
   ]
  },
  {
   "cell_type": "code",
   "execution_count": 40,
   "id": "e476d8a7",
   "metadata": {},
   "outputs": [
    {
     "data": {
      "text/plain": [
       "3"
      ]
     },
     "execution_count": 40,
     "metadata": {},
     "output_type": "execute_result"
    }
   ],
   "source": [
    "photo.ndim"
   ]
  },
  {
   "cell_type": "code",
   "execution_count": 41,
   "id": "e9ea41b9",
   "metadata": {},
   "outputs": [
    {
     "data": {
      "text/plain": [
       "True"
      ]
     },
     "execution_count": 41,
     "metadata": {},
     "output_type": "execute_result"
    }
   ],
   "source": [
    "status\n"
   ]
  },
  {
   "cell_type": "code",
   "execution_count": 75,
   "id": "e902e104",
   "metadata": {},
   "outputs": [],
   "source": [
    "cap.release()"
   ]
  },
  {
   "cell_type": "code",
   "execution_count": 13,
   "id": "7de87bee",
   "metadata": {},
   "outputs": [],
   "source": [
    "a = numpy.array([12,3,4,5,6])"
   ]
  },
  {
   "cell_type": "code",
   "execution_count": 12,
   "id": "db81d0c1",
   "metadata": {},
   "outputs": [],
   "source": [
    "import numpy"
   ]
  },
  {
   "cell_type": "code",
   "execution_count": 14,
   "id": "4801fd61",
   "metadata": {},
   "outputs": [
    {
     "data": {
      "text/plain": [
       "array([12,  3,  4,  5,  6])"
      ]
     },
     "execution_count": 14,
     "metadata": {},
     "output_type": "execute_result"
    }
   ],
   "source": [
    "a"
   ]
  },
  {
   "cell_type": "code",
   "execution_count": null,
   "id": "728a4209",
   "metadata": {},
   "outputs": [],
   "source": []
  },
  {
   "cell_type": "code",
   "execution_count": 15,
   "id": "15524c45",
   "metadata": {},
   "outputs": [],
   "source": [
    "a = numpy.array(\n",
    "    [\n",
    "        [1,10,100],\n",
    "        [2,20,200],\n",
    "        [3,30,300],\n",
    "        [4,40,400]\n",
    "    ])"
   ]
  },
  {
   "cell_type": "code",
   "execution_count": 16,
   "id": "6c01f42c",
   "metadata": {},
   "outputs": [
    {
     "data": {
      "text/plain": [
       "(4, 3)"
      ]
     },
     "execution_count": 16,
     "metadata": {},
     "output_type": "execute_result"
    }
   ],
   "source": [
    "a.shape"
   ]
  },
  {
   "cell_type": "code",
   "execution_count": 17,
   "id": "bd465e6b",
   "metadata": {},
   "outputs": [],
   "source": [
    "a[1:3, 1:3] = 5"
   ]
  },
  {
   "cell_type": "code",
   "execution_count": 18,
   "id": "ee6ddd41",
   "metadata": {},
   "outputs": [
    {
     "data": {
      "text/plain": [
       "(4, 3)"
      ]
     },
     "execution_count": 18,
     "metadata": {},
     "output_type": "execute_result"
    }
   ],
   "source": [
    "a.shape"
   ]
  },
  {
   "cell_type": "code",
   "execution_count": 24,
   "id": "db5349d7",
   "metadata": {},
   "outputs": [
    {
     "data": {
      "text/plain": [
       "array([[  1,  10, 100],\n",
       "       [  2,   5,   5],\n",
       "       [  3,   5,   5],\n",
       "       [  4,  40, 400]])"
      ]
     },
     "execution_count": 24,
     "metadata": {},
     "output_type": "execute_result"
    }
   ],
   "source": [
    "a"
   ]
  },
  {
   "cell_type": "code",
   "execution_count": 43,
   "id": "128eaf9d",
   "metadata": {},
   "outputs": [
    {
     "data": {
      "text/plain": [
       "array([[  1,  10, 100],\n",
       "       [  2,   5,   5],\n",
       "       [  3,   5,   5],\n",
       "       [  4,  40, 400]])"
      ]
     },
     "execution_count": 43,
     "metadata": {},
     "output_type": "execute_result"
    }
   ],
   "source": [
    "a[: , :  ]"
   ]
  },
  {
   "cell_type": "code",
   "execution_count": 56,
   "id": "61eb6af3",
   "metadata": {},
   "outputs": [
    {
     "data": {
      "text/plain": [
       "array([198, 175,   0], dtype=uint8)"
      ]
     },
     "execution_count": 56,
     "metadata": {},
     "output_type": "execute_result"
    }
   ],
   "source": [
    "# in photo first is row , second is column, \n",
    "photo[10, 30]"
   ]
  },
  {
   "cell_type": "code",
   "execution_count": 57,
   "id": "e350cade",
   "metadata": {},
   "outputs": [
    {
     "data": {
      "text/plain": [
       "array([198, 175,   0], dtype=uint8)"
      ]
     },
     "execution_count": 57,
     "metadata": {},
     "output_type": "execute_result"
    }
   ],
   "source": [
    "photo[10, 30]"
   ]
  },
  {
   "cell_type": "code",
   "execution_count": 58,
   "id": "2d0adaba",
   "metadata": {},
   "outputs": [
    {
     "data": {
      "text/plain": [
       "True"
      ]
     },
     "execution_count": 58,
     "metadata": {},
     "output_type": "execute_result"
    }
   ],
   "source": [
    "status"
   ]
  },
  {
   "cell_type": "code",
   "execution_count": 74,
   "id": "96d56cd0",
   "metadata": {},
   "outputs": [],
   "source": [
    "cv2.imshow(\"hi\", photo)"
   ]
  },
  {
   "cell_type": "code",
   "execution_count": 51,
   "id": "a2c4ac2b",
   "metadata": {},
   "outputs": [],
   "source": [
    "photo[10, 30, 2] = 0"
   ]
  },
  {
   "cell_type": "code",
   "execution_count": 1,
   "id": "ce101c00",
   "metadata": {},
   "outputs": [],
   "source": [
    "# if we put some intelligent on the top of machine learning is known computer vision\n",
    "# let's put some intelligent on the top of image or put AI \n",
    "#on the top of image we have to use IA who help you\n",
    "\n"
   ]
  },
  {
   "cell_type": "code",
   "execution_count": 2,
   "id": "4b36c9ec",
   "metadata": {},
   "outputs": [],
   "source": [
    "# Haarcascode"
   ]
  },
  {
   "cell_type": "code",
   "execution_count": null,
   "id": "442b4b68",
   "metadata": {},
   "outputs": [],
   "source": []
  },
  {
   "cell_type": "code",
   "execution_count": 3,
   "id": "6656505e",
   "metadata": {},
   "outputs": [],
   "source": [
    "import cv2"
   ]
  },
  {
   "cell_type": "code",
   "execution_count": 5,
   "id": "3257cf09",
   "metadata": {},
   "outputs": [],
   "source": [
    "cap = cv2.VideoCapture(0)"
   ]
  },
  {
   "cell_type": "code",
   "execution_count": 6,
   "id": "1b86ec48",
   "metadata": {},
   "outputs": [
    {
     "ename": "NameError",
     "evalue": "name 'status' is not defined",
     "output_type": "error",
     "traceback": [
      "\u001b[1;31m---------------------------------------------------------------------------\u001b[0m",
      "\u001b[1;31mNameError\u001b[0m                                 Traceback (most recent call last)",
      "Cell \u001b[1;32mIn[6], line 1\u001b[0m\n\u001b[1;32m----> 1\u001b[0m \u001b[43mstatus\u001b[49m, photo\n",
      "\u001b[1;31mNameError\u001b[0m: name 'status' is not defined"
     ]
    }
   ],
   "source": [
    "status, photo"
   ]
  },
  {
   "cell_type": "code",
   "execution_count": 7,
   "id": "616efc1c",
   "metadata": {},
   "outputs": [
    {
     "ename": "SystemError",
     "evalue": "<class 'cv2.CascadeClassifier'> returned a result with an exception set",
     "output_type": "error",
     "traceback": [
      "\u001b[1;31m---------------------------------------------------------------------------\u001b[0m",
      "\u001b[1;31merror\u001b[0m                                     Traceback (most recent call last)",
      "\u001b[1;31merror\u001b[0m: OpenCV(4.7.0) D:\\a\\opencv-python\\opencv-python\\opencv\\modules\\core\\src\\persistence.cpp:479: error: (-27:Null pointer) NULL or empty filename in function 'cv::FileStorage::Impl::open'\n",
      "\nThe above exception was the direct cause of the following exception:\n",
      "\u001b[1;31mSystemError\u001b[0m                               Traceback (most recent call last)",
      "Cell \u001b[1;32mIn[7], line 1\u001b[0m\n\u001b[1;32m----> 1\u001b[0m \u001b[43mcv2\u001b[49m\u001b[38;5;241;43m.\u001b[39;49m\u001b[43mCascadeClassifier\u001b[49m\u001b[43m(\u001b[49m\u001b[38;5;124;43m\"\u001b[39;49m\u001b[38;5;124;43m\"\u001b[39;49m\u001b[43m)\u001b[49m\n",
      "\u001b[1;31mSystemError\u001b[0m: <class 'cv2.CascadeClassifier'> returned a result with an exception set"
     ]
    }
   ],
   "source": [
    "cv2.CascadeClassifier(\"\")"
   ]
  },
  {
   "cell_type": "code",
   "execution_count": null,
   "id": "67ae69bd",
   "metadata": {},
   "outputs": [],
   "source": []
  }
 ],
 "metadata": {
  "kernelspec": {
   "display_name": "Python 3 (ipykernel)",
   "language": "python",
   "name": "python3"
  },
  "language_info": {
   "codemirror_mode": {
    "name": "ipython",
    "version": 3
   },
   "file_extension": ".py",
   "mimetype": "text/x-python",
   "name": "python",
   "nbconvert_exporter": "python",
   "pygments_lexer": "ipython3",
   "version": "3.11.0"
  }
 },
 "nbformat": 4,
 "nbformat_minor": 5
}
