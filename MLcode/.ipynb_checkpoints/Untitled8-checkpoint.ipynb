{
 "cells": [
  {
   "cell_type": "code",
   "execution_count": 2,
   "id": "908f11d6",
   "metadata": {},
   "outputs": [],
   "source": [
    "import cv2"
   ]
  },
  {
   "cell_type": "code",
   "execution_count": 3,
   "id": "53c04c23",
   "metadata": {},
   "outputs": [
    {
     "data": {
      "text/plain": [
       "< cv2.VideoCapture 0000024BCD73F3B0>"
      ]
     },
     "execution_count": 3,
     "metadata": {},
     "output_type": "execute_result"
    }
   ],
   "source": [
    "cv2.VideoCapture(0)"
   ]
  },
  {
   "cell_type": "code",
   "execution_count": 4,
   "id": "56c5356d",
   "metadata": {},
   "outputs": [],
   "source": [
    "cap = cv2.VideoCapture(0)"
   ]
  },
  {
   "cell_type": "code",
   "execution_count": 5,
   "id": "d34ded71",
   "metadata": {},
   "outputs": [],
   "source": [
    "status , photo = cap.read()"
   ]
  },
  {
   "cell_type": "code",
   "execution_count": 6,
   "id": "31eb3e4f",
   "metadata": {},
   "outputs": [
    {
     "data": {
      "text/plain": [
       "True"
      ]
     },
     "execution_count": 6,
     "metadata": {},
     "output_type": "execute_result"
    }
   ],
   "source": [
    "status"
   ]
  },
  {
   "cell_type": "code",
   "execution_count": 7,
   "id": "7c067ddc",
   "metadata": {},
   "outputs": [
    {
     "data": {
      "text/plain": [
       "array([[[ 0, 22, 57],\n",
       "        [ 1, 23, 54],\n",
       "        [ 5, 23, 51],\n",
       "        ...,\n",
       "        [ 0,  2,  4],\n",
       "        [ 0,  0,  0],\n",
       "        [ 0,  2,  1]],\n",
       "\n",
       "       [[ 0, 20, 48],\n",
       "        [ 0, 21, 51],\n",
       "        [ 4, 21, 54],\n",
       "        ...,\n",
       "        [ 0,  2,  5],\n",
       "        [ 0,  0,  2],\n",
       "        [ 0,  0,  2]],\n",
       "\n",
       "       [[ 3, 19, 51],\n",
       "        [ 3, 19, 51],\n",
       "        [ 5, 20, 53],\n",
       "        ...,\n",
       "        [ 1,  4,  8],\n",
       "        [ 0,  3,  5],\n",
       "        [ 0,  0,  2]],\n",
       "\n",
       "       ...,\n",
       "\n",
       "       [[ 0,  0,  7],\n",
       "        [ 0,  0,  7],\n",
       "        [ 0,  0,  7],\n",
       "        ...,\n",
       "        [ 0,  0, 12],\n",
       "        [ 0,  0, 11],\n",
       "        [ 0,  0, 11]],\n",
       "\n",
       "       [[ 0,  0,  7],\n",
       "        [ 0,  0,  7],\n",
       "        [ 0,  0,  7],\n",
       "        ...,\n",
       "        [ 0,  0, 13],\n",
       "        [ 0,  0, 11],\n",
       "        [ 0,  0, 11]],\n",
       "\n",
       "       [[ 0,  0,  7],\n",
       "        [ 0,  0,  7],\n",
       "        [ 0,  0,  7],\n",
       "        ...,\n",
       "        [ 0,  0, 11],\n",
       "        [ 0,  0, 11],\n",
       "        [ 0,  0, 11]]], dtype=uint8)"
      ]
     },
     "execution_count": 7,
     "metadata": {},
     "output_type": "execute_result"
    }
   ],
   "source": [
    "photo"
   ]
  },
  {
   "cell_type": "code",
   "execution_count": 8,
   "id": "a467120b",
   "metadata": {},
   "outputs": [
    {
     "data": {
      "text/plain": [
       "3"
      ]
     },
     "execution_count": 8,
     "metadata": {},
     "output_type": "execute_result"
    }
   ],
   "source": [
    "photo.ndim"
   ]
  },
  {
   "cell_type": "code",
   "execution_count": null,
   "id": "a90bc96e",
   "metadata": {},
   "outputs": [],
   "source": []
  }
 ],
 "metadata": {
  "kernelspec": {
   "display_name": "Python 3 (ipykernel)",
   "language": "python",
   "name": "python3"
  },
  "language_info": {
   "codemirror_mode": {
    "name": "ipython",
    "version": 3
   },
   "file_extension": ".py",
   "mimetype": "text/x-python",
   "name": "python",
   "nbconvert_exporter": "python",
   "pygments_lexer": "ipython3",
   "version": "3.11.0"
  }
 },
 "nbformat": 4,
 "nbformat_minor": 5
}
