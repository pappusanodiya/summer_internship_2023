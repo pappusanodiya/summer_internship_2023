{
 "cells": [
  {
   "cell_type": "code",
   "execution_count": 8,
   "id": "83259566",
   "metadata": {},
   "outputs": [],
   "source": [
    "import cv2"
   ]
  },
  {
   "cell_type": "code",
   "execution_count": 2,
   "id": "c36922d5",
   "metadata": {},
   "outputs": [],
   "source": [
    "cap = cv2.VideoCapture(0)"
   ]
  },
  {
   "cell_type": "code",
   "execution_count": 3,
   "id": "7e3d7604",
   "metadata": {},
   "outputs": [],
   "source": [
    "status , photo = cap.read()"
   ]
  },
  {
   "cell_type": "code",
   "execution_count": 4,
   "id": "bb109c3b",
   "metadata": {},
   "outputs": [
    {
     "data": {
      "text/plain": [
       "True"
      ]
     },
     "execution_count": 4,
     "metadata": {},
     "output_type": "execute_result"
    }
   ],
   "source": [
    "status"
   ]
  },
  {
   "cell_type": "code",
   "execution_count": null,
   "id": "992fd8e7",
   "metadata": {},
   "outputs": [],
   "source": []
  },
  {
   "cell_type": "code",
   "execution_count": 5,
   "id": "018dc5b2",
   "metadata": {},
   "outputs": [
    {
     "data": {
      "text/plain": [
       "True"
      ]
     },
     "execution_count": 5,
     "metadata": {},
     "output_type": "execute_result"
    }
   ],
   "source": [
    "# for store photo in \n",
    "cv2.imwrite(\"pappu.png\", photo)"
   ]
  },
  {
   "cell_type": "code",
   "execution_count": 7,
   "id": "6bf14386",
   "metadata": {},
   "outputs": [],
   "source": [
    "#\n",
    "cap.release()\n",
    "#for release the camera"
   ]
  },
  {
   "cell_type": "code",
   "execution_count": 6,
   "id": "3d0c6f37",
   "metadata": {},
   "outputs": [],
   "source": [
    "cv2.imshow(\"my photo\", photo)\n",
    "\n",
    "if cv2.waitKey() == 27:\n",
    "    cv2.destroyAllWindows()\n",
    "    "
   ]
  },
  {
   "cell_type": "code",
   "execution_count": null,
   "id": "50efc42e",
   "metadata": {},
   "outputs": [],
   "source": [
    "photo[100]"
   ]
  },
  {
   "cell_type": "code",
   "execution_count": null,
   "id": "88bd28c1",
   "metadata": {},
   "outputs": [],
   "source": [
    "photo.shape"
   ]
  },
  {
   "cell_type": "code",
   "execution_count": null,
   "id": "98e0705d",
   "metadata": {},
   "outputs": [],
   "source": [
    "photo.ndim"
   ]
  },
  {
   "cell_type": "code",
   "execution_count": null,
   "id": "39828c00",
   "metadata": {},
   "outputs": [],
   "source": [
    "type(photo)"
   ]
  },
  {
   "cell_type": "code",
   "execution_count": null,
   "id": "8a4bcd39",
   "metadata": {},
   "outputs": [],
   "source": [
    "photo[100] = [ 2,3,5]"
   ]
  },
  {
   "cell_type": "code",
   "execution_count": null,
   "id": "fee5224d",
   "metadata": {},
   "outputs": [],
   "source": [
    "newphoto = photo"
   ]
  },
  {
   "cell_type": "code",
   "execution_count": null,
   "id": "ddff6131",
   "metadata": {},
   "outputs": [],
   "source": [
    "newphoto = photo[100:259, 233:423]"
   ]
  },
  {
   "cell_type": "code",
   "execution_count": null,
   "id": "c063d04a",
   "metadata": {},
   "outputs": [],
   "source": [
    "photo[: , :, :]"
   ]
  },
  {
   "cell_type": "code",
   "execution_count": null,
   "id": "a3982671",
   "metadata": {},
   "outputs": [],
   "source": [
    "B, G, R = cv2.split(photo)"
   ]
  },
  {
   "cell_type": "code",
   "execution_count": 13,
   "id": "70e843f8",
   "metadata": {},
   "outputs": [],
   "source": [
    "a = [1,2,3,4,5,6]"
   ]
  },
  {
   "cell_type": "code",
   "execution_count": 14,
   "id": "99e40f78",
   "metadata": {},
   "outputs": [
    {
     "data": {
      "text/plain": [
       "[4, 5, 6]"
      ]
     },
     "execution_count": 14,
     "metadata": {},
     "output_type": "execute_result"
    }
   ],
   "source": [
    "a[3:6]"
   ]
  },
  {
   "cell_type": "code",
   "execution_count": 15,
   "id": "4705f2e2",
   "metadata": {},
   "outputs": [],
   "source": [
    "a[0:3] = a[3:6]"
   ]
  },
  {
   "cell_type": "code",
   "execution_count": 16,
   "id": "a99346e6",
   "metadata": {},
   "outputs": [
    {
     "data": {
      "text/plain": [
       "[4, 5, 6, 4, 5, 6]"
      ]
     },
     "execution_count": 16,
     "metadata": {},
     "output_type": "execute_result"
    }
   ],
   "source": [
    "a"
   ]
  },
  {
   "cell_type": "code",
   "execution_count": 17,
   "id": "9592495e",
   "metadata": {},
   "outputs": [
    {
     "ename": "NameError",
     "evalue": "name 'photo' is not defined",
     "output_type": "error",
     "traceback": [
      "\u001b[1;31m---------------------------------------------------------------------------\u001b[0m",
      "\u001b[1;31mNameError\u001b[0m                                 Traceback (most recent call last)",
      "Cell \u001b[1;32mIn[17], line 1\u001b[0m\n\u001b[1;32m----> 1\u001b[0m photo[\u001b[38;5;241m0\u001b[39m:\u001b[38;5;241m150\u001b[39m, \u001b[38;5;241m0\u001b[39m:\u001b[38;5;241m250\u001b[39m] \u001b[38;5;241m=\u001b[39m \u001b[43mphoto\u001b[49m [\u001b[38;5;241m100\u001b[39m:\u001b[38;5;241m250\u001b[39m , \u001b[38;5;241m200\u001b[39m:\u001b[38;5;241m450\u001b[39m]\n",
      "\u001b[1;31mNameError\u001b[0m: name 'photo' is not defined"
     ]
    }
   ],
   "source": [
    "photo[0:150, 0:250] = photo [100:250 , 200:450]"
   ]
  },
  {
   "cell_type": "code",
   "execution_count": 32,
   "id": "3cf40aa0",
   "metadata": {},
   "outputs": [],
   "source": [
    "import cv2\n",
    "cap = cv2.VideoCapture(0)"
   ]
  },
  {
   "cell_type": "code",
   "execution_count": 33,
   "id": "115f86fe",
   "metadata": {},
   "outputs": [],
   "source": [
    "while True:\n",
    "    status, photo = cap.read()\n",
    "    newphoto = photo[100:250, 200:250]\n",
    "    photo[0:150:]\n",
    "    cv2.imshow(\"my photo\", photo)\n",
    "    if cv2.waitKey(100) == 13:\n",
    "        break\n",
    "    \n",
    "cv2.destroyAllWindows()\n",
    "    \n",
    "    "
   ]
  },
  {
   "cell_type": "code",
   "execution_count": 34,
   "id": "39597b08",
   "metadata": {},
   "outputs": [],
   "source": [
    "cap.release()"
   ]
  },
  {
   "cell_type": "code",
   "execution_count": 35,
   "id": "b0779431",
   "metadata": {},
   "outputs": [],
   "source": [
    "a[0] += 3"
   ]
  },
  {
   "cell_type": "code",
   "execution_count": 38,
   "id": "dfe9d5cf",
   "metadata": {},
   "outputs": [],
   "source": [
    "photo [: , : , 1] = +50"
   ]
  },
  {
   "cell_type": "code",
   "execution_count": null,
   "id": "c9c06c0a",
   "metadata": {},
   "outputs": [],
   "source": []
  }
 ],
 "metadata": {
  "kernelspec": {
   "display_name": "Python 3 (ipykernel)",
   "language": "python",
   "name": "python3"
  },
  "language_info": {
   "codemirror_mode": {
    "name": "ipython",
    "version": 3
   },
   "file_extension": ".py",
   "mimetype": "text/x-python",
   "name": "python",
   "nbconvert_exporter": "python",
   "pygments_lexer": "ipython3",
   "version": "3.11.0"
  }
 },
 "nbformat": 4,
 "nbformat_minor": 5
}
