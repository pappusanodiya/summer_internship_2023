{
 "cells": [
  {
   "cell_type": "code",
   "execution_count": 11,
   "id": "8090aced",
   "metadata": {},
   "outputs": [],
   "source": [
    "cap.release()"
   ]
  },
  {
   "cell_type": "code",
   "execution_count": 3,
   "id": "40cb212b",
   "metadata": {},
   "outputs": [
    {
     "ename": "error",
     "evalue": "OpenCV(4.7.0) D:\\a\\opencv-python\\opencv-python\\opencv\\modules\\imgproc\\src\\resize.cpp:4062: error: (-215:Assertion failed) !ssize.empty() in function 'cv::resize'\n",
     "output_type": "error",
     "traceback": [
      "\u001b[1;31m---------------------------------------------------------------------------\u001b[0m",
      "\u001b[1;31merror\u001b[0m                                     Traceback (most recent call last)",
      "Cell \u001b[1;32mIn[3], line 52\u001b[0m\n\u001b[0;32m     49\u001b[0m blended \u001b[38;5;241m=\u001b[39m cv2\u001b[38;5;241m.\u001b[39maddWeighted(frame, \u001b[38;5;241m0.7\u001b[39m, output, \u001b[38;5;241m0.3\u001b[39m, \u001b[38;5;241m0\u001b[39m)\n\u001b[0;32m     51\u001b[0m \u001b[38;5;66;03m# Resize the overlay image to match the frame size\u001b[39;00m\n\u001b[1;32m---> 52\u001b[0m resized_overlay \u001b[38;5;241m=\u001b[39m \u001b[43mcv2\u001b[49m\u001b[38;5;241;43m.\u001b[39;49m\u001b[43mresize\u001b[49m\u001b[43m(\u001b[49m\u001b[43moverlay\u001b[49m\u001b[43m,\u001b[49m\u001b[43m \u001b[49m\u001b[43m(\u001b[49m\u001b[43mwidth\u001b[49m\u001b[43m,\u001b[49m\u001b[43m \u001b[49m\u001b[43mheight\u001b[49m\u001b[43m)\u001b[49m\u001b[43m)\u001b[49m\n\u001b[0;32m     54\u001b[0m \u001b[38;5;66;03m# Combine the blended frame and the overlay\u001b[39;00m\n\u001b[0;32m     55\u001b[0m final_frame \u001b[38;5;241m=\u001b[39m cv2\u001b[38;5;241m.\u001b[39maddWeighted(blended, \u001b[38;5;241m0.5\u001b[39m, resized_overlay, \u001b[38;5;241m0.5\u001b[39m, \u001b[38;5;241m0\u001b[39m)\n",
      "\u001b[1;31merror\u001b[0m: OpenCV(4.7.0) D:\\a\\opencv-python\\opencv-python\\opencv\\modules\\imgproc\\src\\resize.cpp:4062: error: (-215:Assertion failed) !ssize.empty() in function 'cv::resize'\n"
     ]
    }
   ],
   "source": [
    "import cv2\n",
    "import numpy as np\n",
    "\n",
    "# Load your photo as a transparent overlay\n",
    "overlay = cv2.imread('your_photo.png', cv2.IMREAD_UNCHANGED)\n",
    "\n",
    "# Create a VideoCapture object\n",
    "cap = cv2.VideoCapture(0)\n",
    "\n",
    "# Check if the camera is opened successfully\n",
    "if not cap.isOpened():\n",
    "    print(\"Failed to open camera\")\n",
    "    exit()\n",
    "\n",
    "# Define the color filters\n",
    "color_filters = [\n",
    "    (0, 0, 255, 0.3),   # Red (with transparency)\n",
    "    (0, 255, 0, 0.3),   # Green (with transparency)\n",
    "    (255, 0, 0, 0.3),   # Blue (with transparency)\n",
    "    (255, 255, 0, 0.3)  # Yellow (with transparency)\n",
    "]\n",
    "\n",
    "while True:\n",
    "    # Read frame from the camera\n",
    "    ret, frame = cap.read()\n",
    "\n",
    "    if not ret:\n",
    "        print(\"Failed to read frame\")\n",
    "        break\n",
    "\n",
    "    # Resize the frame to have four equal parts\n",
    "    height, width, _ = frame.shape\n",
    "    frame = cv2.resize(frame, (2 * width, 2 * height))\n",
    "\n",
    "    # Create a blank image with the same size as the frame\n",
    "    output = np.zeros_like(frame)\n",
    "\n",
    "    # Apply color filters to each part of the frame\n",
    "    for i, color in enumerate(color_filters):\n",
    "        x_start = i % 2 * width\n",
    "        y_start = i // 2 * height\n",
    "        x_end = x_start + width\n",
    "        y_end = y_start + height\n",
    "\n",
    "        # Apply color filter to the part of the frame\n",
    "        output[y_start:y_end, x_start:x_end] = np.array(color[:3], dtype=np.uint8)\n",
    "\n",
    "    # Blend the original frame and the color-filtered output\n",
    "    blended = cv2.addWeighted(frame, 0.7, output, 0.3, 0)\n",
    "\n",
    "    # Resize the overlay image to match the frame size\n",
    "    resized_overlay = cv2.resize(overlay, (width, height))\n",
    "\n",
    "    # Combine the blended frame and the overlay\n",
    "    final_frame = cv2.addWeighted(blended, 0.5, resized_overlay, 0.5, 0)\n",
    "\n",
    "    # Display the final frame\n",
    "    cv2.imshow(\"Video\", final_frame)\n",
    "\n",
    "    # Check if 'q' is pressed to exit the loop\n",
    "    if cv2.waitKey(1) == ord('q'):\n",
    "        break\n",
    "\n",
    "# Release the VideoCapture object and close the window\n",
    "cap.release()\n",
    "cv2.destroyAllWindows()\n"
   ]
  },
  {
   "cell_type": "code",
   "execution_count": null,
   "id": "cd80efed",
   "metadata": {},
   "outputs": [],
   "source": []
  },
  {
   "cell_type": "code",
   "execution_count": null,
   "id": "7ce16b87",
   "metadata": {},
   "outputs": [],
   "source": []
  },
  {
   "cell_type": "code",
   "execution_count": 5,
   "id": "7f2d7b46",
   "metadata": {},
   "outputs": [
    {
     "name": "stdout",
     "output_type": "stream",
     "text": [
      "A\n",
      "AB\n",
      "ABC\n",
      "ABCD\n",
      "ABCDE\n"
     ]
    }
   ],
   "source": [
    "# Left triangle pattern\n",
    "n = 5\n",
    "for i in range(n):\n",
    "    for j in range(i+1):\n",
    "        print(chr(j + 65), end=\"\")\n",
    "    print()# Left triangle pattern\n"
   ]
  },
  {
   "cell_type": "code",
   "execution_count": 7,
   "id": "0d23952a",
   "metadata": {},
   "outputs": [
    {
     "name": "stdout",
     "output_type": "stream",
     "text": [
      "L\n",
      "LW\n",
      "LW\n",
      "LW\n",
      "LW\n",
      "LW\n",
      "LW\n",
      "LW\n",
      "LW\n",
      "LW\n"
     ]
    }
   ],
   "source": [
    "# Define the pattern\n",
    "pattern = \"LW\"\n",
    "\n",
    "# Print the left triangle pattern\n",
    "for i in range(1, len(pattern) + 9):\n",
    "    print(pattern[:i])\n"
   ]
  },
  {
   "cell_type": "code",
   "execution_count": 8,
   "id": "e3693544",
   "metadata": {},
   "outputs": [
    {
     "name": "stdout",
     "output_type": "stream",
     "text": [
      "2023-06-23 20:21:30\n",
      "2023-06-23 20:21:31\n",
      "2023-06-23 20:21:32\n",
      "2023-06-23 20:21:33\n",
      "2023-06-23 20:21:34\n",
      "2023-06-23 20:21:35\n",
      "2023-06-23 20:21:36\n",
      "2023-06-23 20:21:37\n",
      "2023-06-23 20:21:38\n",
      "2023-06-23 20:21:39\n",
      "2023-06-23 20:21:40\n",
      "2023-06-23 20:21:41\n"
     ]
    },
    {
     "ename": "KeyboardInterrupt",
     "evalue": "",
     "output_type": "error",
     "traceback": [
      "\u001b[1;31m---------------------------------------------------------------------------\u001b[0m",
      "\u001b[1;31mKeyboardInterrupt\u001b[0m                         Traceback (most recent call last)",
      "Cell \u001b[1;32mIn[8], line 16\u001b[0m\n\u001b[0;32m     13\u001b[0m     \u001b[38;5;28;01mbreak\u001b[39;00m\n\u001b[0;32m     15\u001b[0m \u001b[38;5;66;03m# Add a delay to avoid excessive CPU usage\u001b[39;00m\n\u001b[1;32m---> 16\u001b[0m time\u001b[38;5;241m.\u001b[39msleep(\u001b[38;5;241m1\u001b[39m)\n",
      "\u001b[1;31mKeyboardInterrupt\u001b[0m: "
     ]
    }
   ],
   "source": [
    "import time\n",
    "\n",
    "# Start the loop\n",
    "while True:\n",
    "    # Get the current date\n",
    "    current_date = time.strftime(\"%Y-%m-%d %H:%M:%S\")\n",
    "\n",
    "    # Print the current date\n",
    "    print(current_date)\n",
    "\n",
    "    # Check a condition to break the loop\n",
    "    if current_date == \"2023-06-23 00:00:00\":\n",
    "        break\n",
    "\n",
    "    # Add a delay to avoid excessive CPU usage\n",
    "    time.sleep(1)\n"
   ]
  },
  {
   "cell_type": "code",
   "execution_count": null,
   "id": "2eef7611",
   "metadata": {},
   "outputs": [],
   "source": []
  }
 ],
 "metadata": {
  "kernelspec": {
   "display_name": "Python 3 (ipykernel)",
   "language": "python",
   "name": "python3"
  },
  "language_info": {
   "codemirror_mode": {
    "name": "ipython",
    "version": 3
   },
   "file_extension": ".py",
   "mimetype": "text/x-python",
   "name": "python",
   "nbconvert_exporter": "python",
   "pygments_lexer": "ipython3",
   "version": "3.11.0"
  }
 },
 "nbformat": 4,
 "nbformat_minor": 5
}
