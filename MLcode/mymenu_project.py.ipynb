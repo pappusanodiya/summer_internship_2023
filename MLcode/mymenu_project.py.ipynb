{
 "cells": [
  {
   "cell_type": "code",
   "execution_count": 1,
   "id": "ef0135df",
   "metadata": {},
   "outputs": [
    {
     "name": "stdout",
     "output_type": "stream",
     "text": [
      "\n",
      "1 - to open chrome\n",
      "2 - to open vscode here \n",
      "3 - to show date\n",
      "4 - to check your ip\n",
      "5 - to exit\n",
      "\n",
      "Enter your choice: 1\n",
      "Enter your choice: 4\n",
      "Enter your choice: 6\n",
      "Enter your choice: 5\n"
     ]
    }
   ],
   "source": [
    "import os\n",
    "\n",
    "print(\"\"\"\n",
    "1 - to open chrome\n",
    "2 - to open vscode here \n",
    "3 - to show date\n",
    "4 - to check your ip\n",
    "5 - to exit\n",
    "\"\"\")\n",
    "\n",
    "while(True):\n",
    "    x = int(input(\"Enter your choice: \"))\n",
    "    if x == 1:\n",
    "        os.system('start chrome')\n",
    "    elif x == 2:\n",
    "        os.system('code .')\n",
    "    elif x==3:\n",
    "        os.system('date')\n",
    "    elif x==4:\n",
    "        os.system('ipconfig')\n",
    "    elif x == 5:\n",
    "        break\n"
   ]
  },
  {
   "cell_type": "code",
   "execution_count": null,
   "id": "1e5df3c7",
   "metadata": {},
   "outputs": [],
   "source": []
  }
 ],
 "metadata": {
  "kernelspec": {
   "display_name": "Python 3 (ipykernel)",
   "language": "python",
   "name": "python3"
  },
  "language_info": {
   "codemirror_mode": {
    "name": "ipython",
    "version": 3
   },
   "file_extension": ".py",
   "mimetype": "text/x-python",
   "name": "python",
   "nbconvert_exporter": "python",
   "pygments_lexer": "ipython3",
   "version": "3.11.0"
  }
 },
 "nbformat": 4,
 "nbformat_minor": 5
}
