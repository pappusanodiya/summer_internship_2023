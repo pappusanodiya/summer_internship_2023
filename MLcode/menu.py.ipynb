{
 "cells": [
  {
   "cell_type": "code",
   "execution_count": null,
   "id": "1cd6cf22",
   "metadata": {},
   "outputs": [
    {
     "name": "stdout",
     "output_type": "stream",
     "text": [
      "\t\t\tWelcome to Linux World\n",
      "\t\t\t----------------------\n",
      "\n",
      "\tPress 1: To see date\n",
      "\tPress 2: To check cal\n",
      "\tPress 3: To setup account\n",
      "\tPress 4: To create file\n",
      "\tPress 5: To open web browser\n",
      "\tPress 6: To exit\n",
      "\t\n",
      "Enter your Choice : 1\n",
      "1\n"
     ]
    }
   ],
   "source": [
    "import os\n",
    "import pyttsx3\n",
    "\n",
    "\n",
    "os.system(\"tput setaf 1\")\n",
    "print(\"\\t\\t\\tWelcome to Linux World\")\n",
    "\n",
    "os.system(\"tput setaf 7\")\n",
    "print(\"\\t\\t\\t----------------------\")\n",
    "\n",
    "\n",
    "while True:\n",
    "\tprint(\"\"\"\n",
    "\tPress 1: To see date\n",
    "\tPress 2: To check cal\n",
    "\tPress 3: To setup account\n",
    "\tPress 4: To create file\n",
    "\tPress 5: To open web browser\n",
    "\tPress 6: To exit\n",
    "\t\"\"\"\n",
    "\t)\n",
    "\n",
    "\t\"\"\"\n",
    "\tmyspeaker = pyttsx3.init()\n",
    "\tmyspeaker.say(\"Enter your Choice\")\n",
    "\tmyspeaker.runandSay()\n",
    "\t\"\"\"\n",
    "\n",
    "\n",
    "\tch = input(\"Enter your Choice : \")\n",
    "\tprint(ch)\n",
    "\n",
    "\tif int(ch) == 1:\n",
    "\t\tos.system(\"date\")\n",
    "\telif int(ch) == 2:\n",
    "\t\tprint(\"cal\")\n",
    "\telif int(ch) == 3:\n",
    "\t\tprint(\"user\")\n",
    "\telif int(ch) == 4:\n",
    "\t\tprint(\"file\")\n",
    "\telif int(ch) == 5:\n",
    "\t\tos.system(\"firefox\")\n",
    "\telif int(ch) == 6:\n",
    "\t\texit()\n",
    "\telse:\n",
    "\t\tprint(\"no support\")\n",
    "\t\n",
    "\tinput(\"press enter to cont .... \")\t\n",
    "\tos.system(\"clear\")"
   ]
  },
  {
   "cell_type": "code",
   "execution_count": null,
   "id": "76ff92e1",
   "metadata": {},
   "outputs": [],
   "source": []
  }
 ],
 "metadata": {
  "kernelspec": {
   "display_name": "Python 3 (ipykernel)",
   "language": "python",
   "name": "python3"
  },
  "language_info": {
   "codemirror_mode": {
    "name": "ipython",
    "version": 3
   },
   "file_extension": ".py",
   "mimetype": "text/x-python",
   "name": "python",
   "nbconvert_exporter": "python",
   "pygments_lexer": "ipython3",
   "version": "3.11.0"
  }
 },
 "nbformat": 4,
 "nbformat_minor": 5
}
