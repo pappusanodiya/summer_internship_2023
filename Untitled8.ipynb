{
 "cells": [
  {
   "cell_type": "code",
   "execution_count": null,
   "id": "7c796c2e",
   "metadata": {},
   "outputs": [],
   "source": [
    "x = 5"
   ]
  },
  {
   "cell_type": "code",
   "execution_count": null,
   "id": "d8db9675",
   "metadata": {},
   "outputs": [],
   "source": [
    "#dir(sys)\n",
    "import sys"
   ]
  },
  {
   "cell_type": "code",
   "execution_count": null,
   "id": "973f5e48",
   "metadata": {},
   "outputs": [],
   "source": [
    "dir(sys)"
   ]
  },
  {
   "cell_type": "code",
   "execution_count": null,
   "id": "d7190b0b",
   "metadata": {},
   "outputs": [],
   "source": [
    "sys.getsizeof(x)"
   ]
  },
  {
   "cell_type": "code",
   "execution_count": null,
   "id": "4ee69ae1",
   "metadata": {},
   "outputs": [],
   "source": [
    "a = [ 1,2, 3, 4 ,5 ,6, 7, 8]"
   ]
  },
  {
   "cell_type": "code",
   "execution_count": null,
   "id": "01da4ea4",
   "metadata": {},
   "outputs": [],
   "source": [
    "sys.getsizeof(a)"
   ]
  },
  {
   "cell_type": "code",
   "execution_count": null,
   "id": "c56a3d18",
   "metadata": {},
   "outputs": [],
   "source": [
    "b = [i*2 for i in range(100000)]"
   ]
  },
  {
   "cell_type": "code",
   "execution_count": null,
   "id": "7dd25787",
   "metadata": {},
   "outputs": [],
   "source": [
    "sys.getsizeof(b)"
   ]
  },
  {
   "cell_type": "code",
   "execution_count": null,
   "id": "bb856ebf",
   "metadata": {},
   "outputs": [],
   "source": [
    "b"
   ]
  },
  {
   "cell_type": "code",
   "execution_count": null,
   "id": "9c18841c",
   "metadata": {},
   "outputs": [],
   "source": [
    "b[9]"
   ]
  },
  {
   "cell_type": "code",
   "execution_count": null,
   "id": "83fa8cf0",
   "metadata": {},
   "outputs": [],
   "source": [
    "b[88888]"
   ]
  },
  {
   "cell_type": "code",
   "execution_count": null,
   "id": "b93b1c20",
   "metadata": {},
   "outputs": [],
   "source": [
    "# b = (i*2 for i in range(100000000000))\n"
   ]
  },
  {
   "cell_type": "code",
   "execution_count": null,
   "id": "23d307bb",
   "metadata": {},
   "outputs": [],
   "source": [
    "b"
   ]
  },
  {
   "cell_type": "code",
   "execution_count": null,
   "id": "143611a0",
   "metadata": {},
   "outputs": [],
   "source": [
    "for i in b:\n",
    "    print(i)"
   ]
  },
  {
   "cell_type": "code",
   "execution_count": 1,
   "id": "dc1e5259",
   "metadata": {},
   "outputs": [],
   "source": [
    "def lw():\n",
    "    for i in [\"rahul\", \"pop\", \"tom\", \"krish\"]:\n",
    "        yield i"
   ]
  },
  {
   "cell_type": "code",
   "execution_count": 2,
   "id": "6418c2a0",
   "metadata": {},
   "outputs": [],
   "source": [
    "c = lw()\n"
   ]
  },
  {
   "cell_type": "code",
   "execution_count": 3,
   "id": "0561ff38",
   "metadata": {},
   "outputs": [
    {
     "data": {
      "text/plain": [
       "generator"
      ]
     },
     "execution_count": 3,
     "metadata": {},
     "output_type": "execute_result"
    }
   ],
   "source": [
    "type(c)"
   ]
  },
  {
   "cell_type": "code",
   "execution_count": 4,
   "id": "744d3ade",
   "metadata": {},
   "outputs": [],
   "source": [
    "# generator has the capability to memories in ram "
   ]
  },
  {
   "cell_type": "code",
   "execution_count": 23,
   "id": "295f621e",
   "metadata": {},
   "outputs": [],
   "source": [
    "d =[\"hi\", \"this\", \"linux\", \"krish\", \"tom\"]"
   ]
  },
  {
   "cell_type": "code",
   "execution_count": 32,
   "id": "7633ed14",
   "metadata": {},
   "outputs": [],
   "source": [
    "e = iter(d)"
   ]
  },
  {
   "cell_type": "code",
   "execution_count": 39,
   "id": "c66c5b73",
   "metadata": {},
   "outputs": [
    {
     "ename": "StopIteration",
     "evalue": "",
     "output_type": "error",
     "traceback": [
      "\u001b[1;31m---------------------------------------------------------------------------\u001b[0m",
      "\u001b[1;31mStopIteration\u001b[0m                             Traceback (most recent call last)",
      "Cell \u001b[1;32mIn[39], line 1\u001b[0m\n\u001b[1;32m----> 1\u001b[0m \u001b[38;5;28;43mnext\u001b[39;49m\u001b[43m(\u001b[49m\u001b[43me\u001b[49m\u001b[43m)\u001b[49m\n",
      "\u001b[1;31mStopIteration\u001b[0m: "
     ]
    }
   ],
   "source": [
    "next(e)"
   ]
  },
  {
   "cell_type": "code",
   "execution_count": 35,
   "id": "c29671fd",
   "metadata": {},
   "outputs": [
    {
     "name": "stdout",
     "output_type": "stream",
     "text": [
      "hi\n",
      "this\n",
      "linux\n",
      "krish\n",
      "tom\n"
     ]
    }
   ],
   "source": [
    "for i in d:\n",
    "    print(i)"
   ]
  },
  {
   "cell_type": "code",
   "execution_count": 10,
   "id": "c9e8171c",
   "metadata": {},
   "outputs": [
    {
     "data": {
      "text/plain": [
       "list"
      ]
     },
     "execution_count": 10,
     "metadata": {},
     "output_type": "execute_result"
    }
   ],
   "source": [
    "type(d)"
   ]
  },
  {
   "cell_type": "code",
   "execution_count": 21,
   "id": "8449ad20",
   "metadata": {},
   "outputs": [],
   "source": [
    "#dir(d)"
   ]
  },
  {
   "cell_type": "code",
   "execution_count": 19,
   "id": "0a986093",
   "metadata": {},
   "outputs": [],
   "source": [
    "y = 5"
   ]
  },
  {
   "cell_type": "code",
   "execution_count": 20,
   "id": "3bcbd203",
   "metadata": {},
   "outputs": [
    {
     "ename": "TypeError",
     "evalue": "'int' object is not iterable",
     "output_type": "error",
     "traceback": [
      "\u001b[1;31m---------------------------------------------------------------------------\u001b[0m",
      "\u001b[1;31mTypeError\u001b[0m                                 Traceback (most recent call last)",
      "Cell \u001b[1;32mIn[20], line 1\u001b[0m\n\u001b[1;32m----> 1\u001b[0m \u001b[38;5;28;01mfor\u001b[39;00m i \u001b[38;5;129;01min\u001b[39;00m y:\n\u001b[0;32m      2\u001b[0m     \u001b[38;5;28mprint\u001b[39m(i)\n",
      "\u001b[1;31mTypeError\u001b[0m: 'int' object is not iterable"
     ]
    }
   ],
   "source": [
    "for i in y:\n",
    "    print(i)"
   ]
  },
  {
   "cell_type": "code",
   "execution_count": 22,
   "id": "e04177cf",
   "metadata": {},
   "outputs": [],
   "source": [
    "#dir(y)"
   ]
  },
  {
   "cell_type": "code",
   "execution_count": 15,
   "id": "f6b665f0",
   "metadata": {},
   "outputs": [
    {
     "data": {
      "text/plain": [
       "int"
      ]
     },
     "execution_count": 15,
     "metadata": {},
     "output_type": "execute_result"
    }
   ],
   "source": [
    "type(y)"
   ]
  },
  {
   "cell_type": "code",
   "execution_count": 16,
   "id": "8f7b0d3b",
   "metadata": {},
   "outputs": [],
   "source": [
    "y = [5]"
   ]
  },
  {
   "cell_type": "code",
   "execution_count": 17,
   "id": "9ce5a1f0",
   "metadata": {},
   "outputs": [
    {
     "data": {
      "text/plain": [
       "list"
      ]
     },
     "execution_count": 17,
     "metadata": {},
     "output_type": "execute_result"
    }
   ],
   "source": [
    "type(y)"
   ]
  },
  {
   "cell_type": "code",
   "execution_count": 18,
   "id": "f655ef06",
   "metadata": {},
   "outputs": [
    {
     "name": "stdout",
     "output_type": "stream",
     "text": [
      "5\n"
     ]
    }
   ],
   "source": [
    "for i in y:\n",
    "    print(i)"
   ]
  },
  {
   "cell_type": "code",
   "execution_count": null,
   "id": "60297567",
   "metadata": {},
   "outputs": [],
   "source": []
  }
 ],
 "metadata": {
  "kernelspec": {
   "display_name": "Python 3 (ipykernel)",
   "language": "python",
   "name": "python3"
  },
  "language_info": {
   "codemirror_mode": {
    "name": "ipython",
    "version": 3
   },
   "file_extension": ".py",
   "mimetype": "text/x-python",
   "name": "python",
   "nbconvert_exporter": "python",
   "pygments_lexer": "ipython3",
   "version": "3.11.0"
  }
 },
 "nbformat": 4,
 "nbformat_minor": 5
}
