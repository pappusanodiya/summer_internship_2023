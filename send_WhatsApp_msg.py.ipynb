{
 "cells": [
  {
   "cell_type": "code",
   "execution_count": 5,
   "id": "a0d3cf77",
   "metadata": {},
   "outputs": [
    {
     "ename": "CallTimeException",
     "evalue": "Call Time must be Greater than Wait Time as WhatsApp Web takes some Time to Load!",
     "output_type": "error",
     "traceback": [
      "\u001b[1;31m---------------------------------------------------------------------------\u001b[0m",
      "\u001b[1;31mCallTimeException\u001b[0m                         Traceback (most recent call last)",
      "Cell \u001b[1;32mIn[5], line 15\u001b[0m\n\u001b[0;32m     13\u001b[0m \u001b[38;5;28;01mfor\u001b[39;00m mobile \u001b[38;5;129;01min\u001b[39;00m mobiles:\n\u001b[0;32m     14\u001b[0m     \u001b[38;5;28;01mif\u001b[39;00m mobile\u001b[38;5;241m.\u001b[39mstartswith(\u001b[38;5;124m\"\u001b[39m\u001b[38;5;124m+91\u001b[39m\u001b[38;5;124m\"\u001b[39m):\n\u001b[1;32m---> 15\u001b[0m         \u001b[43mpywhatkit\u001b[49m\u001b[38;5;241;43m.\u001b[39;49m\u001b[43msendwhatmsg\u001b[49m\u001b[43m(\u001b[49m\u001b[43mmobile\u001b[49m\u001b[43m,\u001b[49m\u001b[43m \u001b[49m\u001b[38;5;124;43m\"\u001b[39;49m\u001b[38;5;124;43mhello this message is send by python code\u001b[39;49m\u001b[38;5;124;43m\"\u001b[39;49m\u001b[43m,\u001b[49m\u001b[43m \u001b[49m\u001b[38;5;241;43m16\u001b[39;49m\u001b[43m,\u001b[49m\u001b[43m \u001b[49m\u001b[38;5;241;43m51\u001b[39;49m\u001b[43m)\u001b[49m\n",
      "File \u001b[1;32m~\\AppData\\Local\\Programs\\Python\\Python311\\Lib\\site-packages\\pywhatkit\\whats.py:64\u001b[0m, in \u001b[0;36msendwhatmsg\u001b[1;34m(phone_no, message, time_hour, time_min, wait_time, tab_close, close_time)\u001b[0m\n\u001b[0;32m     56\u001b[0m left_time \u001b[38;5;241m=\u001b[39m datetime\u001b[38;5;241m.\u001b[39mstrptime(\n\u001b[0;32m     57\u001b[0m     \u001b[38;5;124mf\u001b[39m\u001b[38;5;124m\"\u001b[39m\u001b[38;5;132;01m{\u001b[39;00mtime_hour\u001b[38;5;132;01m}\u001b[39;00m\u001b[38;5;124m:\u001b[39m\u001b[38;5;132;01m{\u001b[39;00mtime_min\u001b[38;5;132;01m}\u001b[39;00m\u001b[38;5;124m:0\u001b[39m\u001b[38;5;124m\"\u001b[39m, \u001b[38;5;124m\"\u001b[39m\u001b[38;5;124m%\u001b[39m\u001b[38;5;124mH:\u001b[39m\u001b[38;5;124m%\u001b[39m\u001b[38;5;124mM:\u001b[39m\u001b[38;5;124m%\u001b[39m\u001b[38;5;124mS\u001b[39m\u001b[38;5;124m\"\u001b[39m\n\u001b[0;32m     58\u001b[0m ) \u001b[38;5;241m-\u001b[39m datetime\u001b[38;5;241m.\u001b[39mstrptime(\n\u001b[0;32m     59\u001b[0m     \u001b[38;5;124mf\u001b[39m\u001b[38;5;124m\"\u001b[39m\u001b[38;5;132;01m{\u001b[39;00mcurrent_time\u001b[38;5;241m.\u001b[39mtm_hour\u001b[38;5;132;01m}\u001b[39;00m\u001b[38;5;124m:\u001b[39m\u001b[38;5;132;01m{\u001b[39;00mcurrent_time\u001b[38;5;241m.\u001b[39mtm_min\u001b[38;5;132;01m}\u001b[39;00m\u001b[38;5;124m:\u001b[39m\u001b[38;5;132;01m{\u001b[39;00mcurrent_time\u001b[38;5;241m.\u001b[39mtm_sec\u001b[38;5;132;01m}\u001b[39;00m\u001b[38;5;124m\"\u001b[39m,\n\u001b[0;32m     60\u001b[0m     \u001b[38;5;124m\"\u001b[39m\u001b[38;5;124m%\u001b[39m\u001b[38;5;124mH:\u001b[39m\u001b[38;5;124m%\u001b[39m\u001b[38;5;124mM:\u001b[39m\u001b[38;5;124m%\u001b[39m\u001b[38;5;124mS\u001b[39m\u001b[38;5;124m\"\u001b[39m,\n\u001b[0;32m     61\u001b[0m )\n\u001b[0;32m     63\u001b[0m \u001b[38;5;28;01mif\u001b[39;00m left_time\u001b[38;5;241m.\u001b[39mseconds \u001b[38;5;241m<\u001b[39m wait_time:\n\u001b[1;32m---> 64\u001b[0m     \u001b[38;5;28;01mraise\u001b[39;00m exceptions\u001b[38;5;241m.\u001b[39mCallTimeException(\n\u001b[0;32m     65\u001b[0m         \u001b[38;5;124m\"\u001b[39m\u001b[38;5;124mCall Time must be Greater than Wait Time as WhatsApp Web takes some Time to Load!\u001b[39m\u001b[38;5;124m\"\u001b[39m\n\u001b[0;32m     66\u001b[0m     )\n\u001b[0;32m     68\u001b[0m sleep_time \u001b[38;5;241m=\u001b[39m left_time\u001b[38;5;241m.\u001b[39mseconds \u001b[38;5;241m-\u001b[39m wait_time\n\u001b[0;32m     69\u001b[0m \u001b[38;5;28mprint\u001b[39m(\n\u001b[0;32m     70\u001b[0m     \u001b[38;5;124mf\u001b[39m\u001b[38;5;124m\"\u001b[39m\u001b[38;5;124mIn \u001b[39m\u001b[38;5;132;01m{\u001b[39;00msleep_time\u001b[38;5;132;01m}\u001b[39;00m\u001b[38;5;124m Seconds WhatsApp will open and after \u001b[39m\u001b[38;5;132;01m{\u001b[39;00mwait_time\u001b[38;5;132;01m}\u001b[39;00m\u001b[38;5;124m Seconds Message will be Delivered!\u001b[39m\u001b[38;5;124m\"\u001b[39m\n\u001b[0;32m     71\u001b[0m )\n",
      "\u001b[1;31mCallTimeException\u001b[0m: Call Time must be Greater than Wait Time as WhatsApp Web takes some Time to Load!"
     ]
    }
   ],
   "source": [
    "#pip install pywhatkit #library\n",
    "\n",
    "#load module\n",
    "import pywhatkit\n",
    "\n",
    "mobiles = [\n",
    "    \"+916263254576\",\n",
    "    \"+927788776655\",\n",
    "    \"+931234567856\",\n",
    "    \"+959876543477\",\n",
    "]\n",
    "\n",
    "for mobile in mobiles:\n",
    "    if mobile.startswith(\"+91\"):\n",
    "        pywhatkit.sendwhatmsg(mobile, \"hello this message is send by python code\", 16, 51)\n",
    "    "
   ]
  },
  {
   "cell_type": "code",
   "execution_count": null,
   "id": "cb533e2e",
   "metadata": {},
   "outputs": [],
   "source": []
  }
 ],
 "metadata": {
  "kernelspec": {
   "display_name": "Python 3 (ipykernel)",
   "language": "python",
   "name": "python3"
  },
  "language_info": {
   "codemirror_mode": {
    "name": "ipython",
    "version": 3
   },
   "file_extension": ".py",
   "mimetype": "text/x-python",
   "name": "python",
   "nbconvert_exporter": "python",
   "pygments_lexer": "ipython3",
   "version": "3.11.0"
  }
 },
 "nbformat": 4,
 "nbformat_minor": 5
}
