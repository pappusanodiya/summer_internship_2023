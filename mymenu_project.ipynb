{
 "cells": [
  {
   "cell_type": "code",
   "execution_count": null,
   "id": "06a258f8",
   "metadata": {},
   "outputs": [],
   "source": [
    "import os\n",
    "import pyttsx3\n"
   ]
  },
  {
   "cell_type": "code",
   "execution_count": null,
   "id": "160fe100",
   "metadata": {},
   "outputs": [],
   "source": [
    "while True:\n",
    "\tprint(\"\"\"\n",
    "\tPress 1: To open the chrome\n",
    "\tPress 2: To open the vlc\n",
    "\tPress 3: To run the date command\n",
    "\tPress 4: To run cal command\n",
    "\tPress 5: To exit\n",
    "\t\"\"\"\n",
    "\t)\n",
    "    \n",
    "\tch = input(\"Enter your Choice : \")\n",
    "\tprint(ch)\n",
    "\n",
    "\tif int(ch) == 1:\n",
    "\t\tos.system(\"start chrome\")\n",
    "\telif int(ch) == 2:\n",
    "\t\tprint(\"start vlc\")\n",
    "\telif int(ch) == 3:\n",
    "\t\tprint(\"date\")\n",
    "\telif int(ch) == 4:\n",
    "\t\tprint(\"cal\")\n",
    "\telif int(ch) == 5:\n",
    "\t\texit()\n",
    "\telse:\n",
    "\t\tprint(\"no support\")\n",
    "\t\n",
    "\tinput(\"press enter to cont .... \")\t\n",
    "\tos.system(\"clear\")"
   ]
  },
  {
   "cell_type": "code",
   "execution_count": null,
   "id": "0d663177",
   "metadata": {},
   "outputs": [
    {
     "name": "stderr",
     "output_type": "stream",
     "text": [
      "IOPub data rate exceeded.\n",
      "The notebook server will temporarily stop sending output\n",
      "to the client in order to avoid crashing it.\n",
      "To change this limit, set the config variable\n",
      "`--NotebookApp.iopub_data_rate_limit`.\n",
      "\n",
      "Current values:\n",
      "NotebookApp.iopub_data_rate_limit=1000000.0 (bytes/sec)\n",
      "NotebookApp.rate_limit_window=3.0 (secs)\n",
      "\n"
     ]
    }
   ],
   "source": [
    "\n"
   ]
  },
  {
   "cell_type": "code",
   "execution_count": null,
   "id": "f2ff6899",
   "metadata": {},
   "outputs": [],
   "source": []
  }
 ],
 "metadata": {
  "kernelspec": {
   "display_name": "Python 3 (ipykernel)",
   "language": "python",
   "name": "python3"
  },
  "language_info": {
   "codemirror_mode": {
    "name": "ipython",
    "version": 3
   },
   "file_extension": ".py",
   "mimetype": "text/x-python",
   "name": "python",
   "nbconvert_exporter": "python",
   "pygments_lexer": "ipython3",
   "version": "3.11.0"
  }
 },
 "nbformat": 4,
 "nbformat_minor": 5
}
