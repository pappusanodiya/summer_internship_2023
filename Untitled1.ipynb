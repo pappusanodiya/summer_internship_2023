{
 "cells": [
  {
   "cell_type": "code",
   "execution_count": 1,
   "id": "f9e4ed5c",
   "metadata": {},
   "outputs": [],
   "source": [
    "db = [ 1, \"vimal\", [56465, 11111]]"
   ]
  },
  {
   "cell_type": "code",
   "execution_count": 4,
   "id": "7fdce251",
   "metadata": {},
   "outputs": [],
   "source": [
    "# shallow copy\n",
    "lwdb = copy.copy(db)"
   ]
  },
  {
   "cell_type": "code",
   "execution_count": 3,
   "id": "f76657b6",
   "metadata": {},
   "outputs": [],
   "source": [
    "import copy"
   ]
  },
  {
   "cell_type": "code",
   "execution_count": 5,
   "id": "74e348e1",
   "metadata": {},
   "outputs": [
    {
     "data": {
      "text/plain": [
       "[1, 'vimal', [56465, 11111]]"
      ]
     },
     "execution_count": 5,
     "metadata": {},
     "output_type": "execute_result"
    }
   ],
   "source": [
    "db"
   ]
  },
  {
   "cell_type": "code",
   "execution_count": 7,
   "id": "9913235b",
   "metadata": {},
   "outputs": [],
   "source": [
    "lwdb[0]= 111"
   ]
  },
  {
   "cell_type": "code",
   "execution_count": 8,
   "id": "41b1d0f3",
   "metadata": {},
   "outputs": [
    {
     "data": {
      "text/plain": [
       "[1, 'vimal', [56465, 11111]]"
      ]
     },
     "execution_count": 8,
     "metadata": {},
     "output_type": "execute_result"
    }
   ],
   "source": [
    "db"
   ]
  },
  {
   "cell_type": "code",
   "execution_count": 9,
   "id": "83d1a81f",
   "metadata": {},
   "outputs": [],
   "source": [
    "# deep copy\n",
    "vimaldb = copy.deepcopy(db)"
   ]
  },
  {
   "cell_type": "code",
   "execution_count": 10,
   "id": "c3a20d17",
   "metadata": {},
   "outputs": [
    {
     "data": {
      "text/plain": [
       "[1, 'vimal', [56465, 11111]]"
      ]
     },
     "execution_count": 10,
     "metadata": {},
     "output_type": "execute_result"
    }
   ],
   "source": [
    "vimaldb"
   ]
  },
  {
   "cell_type": "code",
   "execution_count": 12,
   "id": "e55a8799",
   "metadata": {},
   "outputs": [],
   "source": [
    "vimaldb[2][0] = 6666"
   ]
  },
  {
   "cell_type": "code",
   "execution_count": 13,
   "id": "0c670f1f",
   "metadata": {},
   "outputs": [
    {
     "data": {
      "text/plain": [
       "[1, 'vimal', [6666, 11111]]"
      ]
     },
     "execution_count": 13,
     "metadata": {},
     "output_type": "execute_result"
    }
   ],
   "source": [
    "vimaldb"
   ]
  },
  {
   "cell_type": "code",
   "execution_count": 14,
   "id": "29ce0b0e",
   "metadata": {},
   "outputs": [
    {
     "data": {
      "text/plain": [
       "[1, 'vimal', [56465, 11111]]"
      ]
     },
     "execution_count": 14,
     "metadata": {},
     "output_type": "execute_result"
    }
   ],
   "source": [
    "db"
   ]
  },
  {
   "cell_type": "code",
   "execution_count": 21,
   "id": "908fc9d0",
   "metadata": {},
   "outputs": [
    {
     "name": "stdout",
     "output_type": "stream",
     "text": [
      "Hii\n"
     ]
    }
   ],
   "source": [
    "def lw():\n",
    "    x = 5 \n",
    "    print(x)\n",
    "    z = x + 6\n",
    "    print(z)\n",
    "    \n",
    "print(\"Hii\")\n"
   ]
  },
  {
   "cell_type": "code",
   "execution_count": 20,
   "id": "9e86adfa",
   "metadata": {},
   "outputs": [],
   "source": [
    "# when ever we need code again and again we put code in box and we give this box a name is function\n",
    "# indentation  by this python function know this is part of function \n",
    "# if you want to run in future you have to call by giving the name of function\n"
   ]
  },
  {
   "cell_type": "code",
   "execution_count": 26,
   "id": "cae9b62c",
   "metadata": {},
   "outputs": [],
   "source": [
    "def my():\n",
    "    print(\"i am vimal\")\n",
    "    print(\"hee\")"
   ]
  },
  {
   "cell_type": "code",
   "execution_count": 27,
   "id": "052ae6ff",
   "metadata": {},
   "outputs": [],
   "source": [
    "hello = my\n",
    "# assign function name to variable"
   ]
  },
  {
   "cell_type": "code",
   "execution_count": 28,
   "id": "338c146a",
   "metadata": {},
   "outputs": [
    {
     "data": {
      "text/plain": [
       "<function __main__.my()>"
      ]
     },
     "execution_count": 28,
     "metadata": {},
     "output_type": "execute_result"
    }
   ],
   "source": [
    "my "
   ]
  },
  {
   "cell_type": "code",
   "execution_count": 29,
   "id": "52991533",
   "metadata": {},
   "outputs": [
    {
     "name": "stdout",
     "output_type": "stream",
     "text": [
      "i am vimal\n",
      "hee\n"
     ]
    }
   ],
   "source": [
    "my()\n",
    "# for run the function"
   ]
  },
  {
   "cell_type": "code",
   "execution_count": 30,
   "id": "11c90f70",
   "metadata": {},
   "outputs": [
    {
     "name": "stdout",
     "output_type": "stream",
     "text": [
      "i am vimal\n",
      "hee\n"
     ]
    }
   ],
   "source": [
    "hello()"
   ]
  },
  {
   "cell_type": "code",
   "execution_count": 55,
   "id": "831dff83",
   "metadata": {},
   "outputs": [],
   "source": [
    "# print keyword print only \n",
    "\n",
    "def lw(x , y, x ):\n",
    "    print(x)\n",
    "    return(\"hello\", x)\n",
    "    \n",
    "    "
   ]
  },
  {
   "cell_type": "code",
   "execution_count": 56,
   "id": "56a4f05c",
   "metadata": {},
   "outputs": [],
   "source": [
    "\n",
    "# in variable we print only when we return in function"
   ]
  },
  {
   "cell_type": "code",
   "execution_count": 57,
   "id": "693044d9",
   "metadata": {},
   "outputs": [
    {
     "data": {
      "text/plain": [
       "'jack'"
      ]
     },
     "execution_count": 57,
     "metadata": {},
     "output_type": "execute_result"
    }
   ],
   "source": [
    "y"
   ]
  },
  {
   "cell_type": "code",
   "execution_count": 58,
   "id": "df7a5d38",
   "metadata": {},
   "outputs": [
    {
     "name": "stdout",
     "output_type": "stream",
     "text": [
      "pop\n"
     ]
    }
   ],
   "source": [
    "p = lw(\"pop\")"
   ]
  },
  {
   "cell_type": "code",
   "execution_count": 59,
   "id": "0ff50e84",
   "metadata": {},
   "outputs": [
    {
     "name": "stdout",
     "output_type": "stream",
     "text": [
      "hi jack\n"
     ]
    }
   ],
   "source": [
    "print(\"hi\", y)"
   ]
  },
  {
   "cell_type": "code",
   "execution_count": 60,
   "id": "b6dd9246",
   "metadata": {},
   "outputs": [
    {
     "data": {
      "text/plain": [
       "('hello', 'pop')"
      ]
     },
     "execution_count": 60,
     "metadata": {},
     "output_type": "execute_result"
    }
   ],
   "source": [
    "p"
   ]
  },
  {
   "cell_type": "code",
   "execution_count": 66,
   "id": "cf9bd846",
   "metadata": {},
   "outputs": [],
   "source": [
    "# after return what ever we run that will not run that's why we have to write return in the last\n",
    "\n",
    "def mysum(x, y, z):\n",
    "    p = x +  + z \n",
    "    return p\n",
    "    print(\"hi\")"
   ]
  },
  {
   "cell_type": "code",
   "execution_count": 67,
   "id": "c02db094",
   "metadata": {},
   "outputs": [
    {
     "data": {
      "text/plain": [
       "9"
      ]
     },
     "execution_count": 67,
     "metadata": {},
     "output_type": "execute_result"
    }
   ],
   "source": [
    "# we have to pass three argument\n",
    "\n",
    "mysum(3, 5, 6)"
   ]
  },
  {
   "cell_type": "code",
   "execution_count": 68,
   "id": "8cef4892",
   "metadata": {},
   "outputs": [],
   "source": [
    "# single responsibility principle  every function have one responsibility\n"
   ]
  },
  {
   "cell_type": "code",
   "execution_count": 70,
   "id": "865b0832",
   "metadata": {},
   "outputs": [],
   "source": [
    "# iteration:   pick one do something and pick again and do ..........\n",
    "\n",
    "mob = [ 111, 222, 333, 444]"
   ]
  },
  {
   "cell_type": "code",
   "execution_count": 75,
   "id": "4e10793f",
   "metadata": {},
   "outputs": [
    {
     "name": "stdout",
     "output_type": "stream",
     "text": [
      "111\n",
      "222\n",
      "333\n",
      "444\n"
     ]
    }
   ],
   "source": [
    "# iteration\n",
    "# we have to use indentation here also\n",
    "\n",
    "for x in mob:\n",
    "    print(x)"
   ]
  },
  {
   "cell_type": "code",
   "execution_count": 76,
   "id": "223c5971",
   "metadata": {},
   "outputs": [],
   "source": [
    "# task1 : how to send message on whatsapp\n",
    "# task2:  find out the python library to send email how to send email\n",
    "# task3: find out how to send the send the text message"
   ]
  },
  {
   "cell_type": "code",
   "execution_count": null,
   "id": "b4982409",
   "metadata": {},
   "outputs": [],
   "source": []
  }
 ],
 "metadata": {
  "kernelspec": {
   "display_name": "Python 3 (ipykernel)",
   "language": "python",
   "name": "python3"
  },
  "language_info": {
   "codemirror_mode": {
    "name": "ipython",
    "version": 3
   },
   "file_extension": ".py",
   "mimetype": "text/x-python",
   "name": "python",
   "nbconvert_exporter": "python",
   "pygments_lexer": "ipython3",
   "version": "3.11.0"
  }
 },
 "nbformat": 4,
 "nbformat_minor": 5
}
