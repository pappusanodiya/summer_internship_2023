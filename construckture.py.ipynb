{
 "cells": [
  {
   "cell_type": "code",
   "execution_count": 54,
   "id": "3d46f2b3",
   "metadata": {},
   "outputs": [],
   "source": [
    "class VisitorForm:\n",
    "    __name = None\n",
    "    __phone = None\n",
    "    \n",
    "    def setPhone(self, n):\n",
    "        self.__phone = n\n",
    "        \n",
    "    def setName(self, n):\n",
    "        self.name=n\n",
    "        \n",
    "    def setPhone(self, p):\n",
    "        self.phone = p\n",
    "        \n",
    "    def my():\n",
    "        print(\"this is me\")\n",
    "# starting with underscore that variable will be private data member in some python version it support \n",
    "# but it is not support in other version of python"
   ]
  },
  {
   "cell_type": "code",
   "execution_count": 50,
   "id": "903784c8",
   "metadata": {},
   "outputs": [],
   "source": [
    "rahul = VisitorForm()"
   ]
  },
  {
   "cell_type": "code",
   "execution_count": 20,
   "id": "dd226fcd",
   "metadata": {},
   "outputs": [],
   "source": [
    "rahul.name = \"rahul kumar\""
   ]
  },
  {
   "cell_type": "code",
   "execution_count": 51,
   "id": "15ce8a23",
   "metadata": {},
   "outputs": [],
   "source": [
    "rahul.setPhone(2341234)"
   ]
  },
  {
   "cell_type": "code",
   "execution_count": null,
   "id": "2008b58c",
   "metadata": {},
   "outputs": [],
   "source": []
  },
  {
   "cell_type": "code",
   "execution_count": 22,
   "id": "2e7e83b1",
   "metadata": {},
   "outputs": [],
   "source": [
    "rahul.setPhone=(243234)"
   ]
  },
  {
   "cell_type": "code",
   "execution_count": 23,
   "id": "09a91ff0",
   "metadata": {},
   "outputs": [],
   "source": [
    "rahul.phone = 2345345"
   ]
  },
  {
   "cell_type": "code",
   "execution_count": null,
   "id": "7f944993",
   "metadata": {},
   "outputs": [],
   "source": []
  },
  {
   "cell_type": "code",
   "execution_count": 52,
   "id": "a52d1278",
   "metadata": {},
   "outputs": [
    {
     "data": {
      "text/plain": [
       "{'_VisitorForm__phone': 2341234}"
      ]
     },
     "execution_count": 52,
     "metadata": {},
     "output_type": "execute_result"
    }
   ],
   "source": [
    "rahul.__dict__"
   ]
  },
  {
   "cell_type": "code",
   "execution_count": 27,
   "id": "ebee7a27",
   "metadata": {},
   "outputs": [],
   "source": [
    "class LW:\n",
    "    __name = \"vimal\""
   ]
  },
  {
   "cell_type": "code",
   "execution_count": 28,
   "id": "87b82089",
   "metadata": {},
   "outputs": [],
   "source": [
    "x = LW()"
   ]
  },
  {
   "cell_type": "code",
   "execution_count": 31,
   "id": "77b2bc0e",
   "metadata": {},
   "outputs": [
    {
     "ename": "AttributeError",
     "evalue": "'LW' object has no attribute '__name'",
     "output_type": "error",
     "traceback": [
      "\u001b[1;31m---------------------------------------------------------------------------\u001b[0m",
      "\u001b[1;31mAttributeError\u001b[0m                            Traceback (most recent call last)",
      "Cell \u001b[1;32mIn[31], line 1\u001b[0m\n\u001b[1;32m----> 1\u001b[0m \u001b[43mx\u001b[49m\u001b[38;5;241;43m.\u001b[39;49m\u001b[43m__name\u001b[49m\n",
      "\u001b[1;31mAttributeError\u001b[0m: 'LW' object has no attribute '__name'"
     ]
    }
   ],
   "source": [
    "x.__name"
   ]
  },
  {
   "cell_type": "raw",
   "id": "499ef261",
   "metadata": {},
   "source": [
    "dir(x)"
   ]
  },
  {
   "cell_type": "code",
   "execution_count": 34,
   "id": "13d52de4",
   "metadata": {},
   "outputs": [
    {
     "data": {
      "text/plain": [
       "['_LW__name',\n",
       " '__class__',\n",
       " '__delattr__',\n",
       " '__dict__',\n",
       " '__dir__',\n",
       " '__doc__',\n",
       " '__eq__',\n",
       " '__format__',\n",
       " '__ge__',\n",
       " '__getattribute__',\n",
       " '__getstate__',\n",
       " '__gt__',\n",
       " '__hash__',\n",
       " '__init__',\n",
       " '__init_subclass__',\n",
       " '__le__',\n",
       " '__lt__',\n",
       " '__module__',\n",
       " '__ne__',\n",
       " '__new__',\n",
       " '__reduce__',\n",
       " '__reduce_ex__',\n",
       " '__repr__',\n",
       " '__setattr__',\n",
       " '__sizeof__',\n",
       " '__str__',\n",
       " '__subclasshook__',\n",
       " '__weakref__']"
      ]
     },
     "execution_count": 34,
     "metadata": {},
     "output_type": "execute_result"
    }
   ],
   "source": [
    "dir(x)"
   ]
  },
  {
   "cell_type": "code",
   "execution_count": 53,
   "id": "ca377090",
   "metadata": {},
   "outputs": [
    {
     "data": {
      "text/plain": [
       "'vimal'"
      ]
     },
     "execution_count": 53,
     "metadata": {},
     "output_type": "execute_result"
    }
   ],
   "source": [
    "# inside python class is normal variable if we start with double underscore so from outside class it is look like private\n",
    "# but by this hack we can access\n",
    "\n",
    "# behind the scene python manipulate the name by class name that's by it is look like private\n",
    "\n",
    "x._LW__name"
   ]
  },
  {
   "cell_type": "code",
   "execution_count": 37,
   "id": "1a50ad6a",
   "metadata": {},
   "outputs": [],
   "source": [
    "class MY:\n",
    "    __name = \"pappu\""
   ]
  },
  {
   "cell_type": "code",
   "execution_count": 46,
   "id": "0e865b8a",
   "metadata": {},
   "outputs": [],
   "source": [
    "y = MY()"
   ]
  },
  {
   "cell_type": "code",
   "execution_count": 47,
   "id": "63569d23",
   "metadata": {},
   "outputs": [
    {
     "data": {
      "text/plain": [
       "<__main__.MY at 0x21831da6750>"
      ]
     },
     "execution_count": 47,
     "metadata": {},
     "output_type": "execute_result"
    }
   ],
   "source": [
    "y"
   ]
  },
  {
   "cell_type": "code",
   "execution_count": 48,
   "id": "8219e154",
   "metadata": {},
   "outputs": [
    {
     "data": {
      "text/plain": [
       "'pappu'"
      ]
     },
     "execution_count": 48,
     "metadata": {},
     "output_type": "execute_result"
    }
   ],
   "source": [
    "y._MY__name"
   ]
  },
  {
   "cell_type": "code",
   "execution_count": null,
   "id": "1f7d3638",
   "metadata": {},
   "outputs": [],
   "source": [
    "# python does not support private data member \n",
    "# we can retrive the information by above the code"
   ]
  },
  {
   "cell_type": "code",
   "execution_count": 63,
   "id": "e729a58e",
   "metadata": {},
   "outputs": [],
   "source": [
    "class VisitorForm:\n",
    "    __name = None\n",
    "    __phone = None\n",
    "    \n",
    "    def setPhone(self, n):\n",
    "        self.__phone = n\n",
    "        \n",
    "    def setName(self, n):\n",
    "        self.name=n\n",
    "        \n",
    "    def setPhone(self, p):\n",
    "        self.phone = p\n",
    "        \n",
    "    def my():\n",
    "        print(\"this is me\")\n",
    "        \n",
    "    def __init__(self):\n",
    "        print(\"hi i am vimal run auto\")"
   ]
  },
  {
   "cell_type": "code",
   "execution_count": 64,
   "id": "37d7587e",
   "metadata": {},
   "outputs": [
    {
     "name": "stdout",
     "output_type": "stream",
     "text": [
      "hi i am vimal run auto\n"
     ]
    }
   ],
   "source": [
    "rahul = VisitorForm()"
   ]
  },
  {
   "cell_type": "code",
   "execution_count": 57,
   "id": "a92bf1c9",
   "metadata": {},
   "outputs": [],
   "source": [
    "rahul.name = \"rahul kumar\""
   ]
  },
  {
   "cell_type": "code",
   "execution_count": 58,
   "id": "4067e86e",
   "metadata": {},
   "outputs": [
    {
     "data": {
      "text/plain": [
       "<__main__.VisitorForm at 0x21831d0e050>"
      ]
     },
     "execution_count": 58,
     "metadata": {},
     "output_type": "execute_result"
    }
   ],
   "source": [
    "rahul"
   ]
  },
  {
   "cell_type": "code",
   "execution_count": 59,
   "id": "76496af5",
   "metadata": {},
   "outputs": [
    {
     "data": {
      "text/plain": [
       "'rahul kumar'"
      ]
     },
     "execution_count": 59,
     "metadata": {},
     "output_type": "execute_result"
    }
   ],
   "source": [
    "rahul.name"
   ]
  },
  {
   "cell_type": "code",
   "execution_count": 67,
   "id": "0452dcdd",
   "metadata": {},
   "outputs": [
    {
     "ename": "AttributeError",
     "evalue": "'VisitorForm' object has no attribute 'py'",
     "output_type": "error",
     "traceback": [
      "\u001b[1;31m---------------------------------------------------------------------------\u001b[0m",
      "\u001b[1;31mAttributeError\u001b[0m                            Traceback (most recent call last)",
      "Cell \u001b[1;32mIn[67], line 1\u001b[0m\n\u001b[1;32m----> 1\u001b[0m \u001b[43mrahul\u001b[49m\u001b[38;5;241;43m.\u001b[39;49m\u001b[43mpy\u001b[49m()\n",
      "\u001b[1;31mAttributeError\u001b[0m: 'VisitorForm' object has no attribute 'py'"
     ]
    }
   ],
   "source": [
    "rahul.py()"
   ]
  },
  {
   "cell_type": "code",
   "execution_count": 66,
   "id": "5b351747",
   "metadata": {},
   "outputs": [
    {
     "ename": "AttributeError",
     "evalue": "'VisitorForm' object has no attribute 'py'",
     "output_type": "error",
     "traceback": [
      "\u001b[1;31m---------------------------------------------------------------------------\u001b[0m",
      "\u001b[1;31mAttributeError\u001b[0m                            Traceback (most recent call last)",
      "Cell \u001b[1;32mIn[66], line 1\u001b[0m\n\u001b[1;32m----> 1\u001b[0m \u001b[43mrahul\u001b[49m\u001b[38;5;241;43m.\u001b[39;49m\u001b[43mpy\u001b[49m()\n",
      "\u001b[1;31mAttributeError\u001b[0m: 'VisitorForm' object has no attribute 'py'"
     ]
    }
   ],
   "source": [
    "rahul.py()"
   ]
  },
  {
   "cell_type": "code",
   "execution_count": 69,
   "id": "26c14e7a",
   "metadata": {},
   "outputs": [],
   "source": [
    "class VisitorForm:\n",
    "    __name = None\n",
    "    __phone = None\n",
    "    \n",
    "    def __init__(self, n, p, r):\n",
    "        selft.name=n\n",
    "        self.phone= p\n",
    "        self.remarks = r\n",
    "        print(\"welcome to linux world\")"
   ]
  },
  {
   "cell_type": "code",
   "execution_count": 70,
   "id": "f2b32edc",
   "metadata": {},
   "outputs": [
    {
     "ename": "SyntaxError",
     "evalue": "invalid syntax (1895399580.py, line 1)",
     "output_type": "error",
     "traceback": [
      "\u001b[1;36m  Cell \u001b[1;32mIn[70], line 1\u001b[1;36m\u001b[0m\n\u001b[1;33m    harry VisitorForm\u001b[0m\n\u001b[1;37m          ^\u001b[0m\n\u001b[1;31mSyntaxError\u001b[0m\u001b[1;31m:\u001b[0m invalid syntax\n"
     ]
    }
   ],
   "source": [
    "harry VisitorForm"
   ]
  },
  {
   "cell_type": "code",
   "execution_count": 73,
   "id": "fd00171a",
   "metadata": {},
   "outputs": [],
   "source": [
    "class CommonForm:\n",
    "    name =  None\n",
    "    phone = None\n",
    "    \n",
    "    \n",
    "    \n",
    "    def mycf(self):\n",
    "        print(\"i am common form\")"
   ]
  },
  {
   "cell_type": "code",
   "execution_count": 75,
   "id": "56e14f28",
   "metadata": {},
   "outputs": [],
   "source": [
    "class JobForm(CommonForm):\n",
    "    exp = None\n",
    "    \n",
    "    def myjf(self):\n",
    "        print(\"i am job form\")"
   ]
  },
  {
   "cell_type": "code",
   "execution_count": 76,
   "id": "6ba6894a",
   "metadata": {},
   "outputs": [],
   "source": [
    "rahul = JobForm()"
   ]
  },
  {
   "cell_type": "code",
   "execution_count": 77,
   "id": "4fad5654",
   "metadata": {},
   "outputs": [
    {
     "data": {
      "text/plain": [
       "{}"
      ]
     },
     "execution_count": 77,
     "metadata": {},
     "output_type": "execute_result"
    }
   ],
   "source": [
    "rahul.__dict__"
   ]
  },
  {
   "cell_type": "code",
   "execution_count": 78,
   "id": "b150dac6",
   "metadata": {},
   "outputs": [
    {
     "name": "stdout",
     "output_type": "stream",
     "text": [
      "i am job form\n"
     ]
    }
   ],
   "source": [
    "rahul.myjf()"
   ]
  },
  {
   "cell_type": "code",
   "execution_count": 79,
   "id": "fa1bb3ee",
   "metadata": {},
   "outputs": [
    {
     "name": "stdout",
     "output_type": "stream",
     "text": [
      "i am common form\n"
     ]
    }
   ],
   "source": [
    "rahul.mycf()"
   ]
  },
  {
   "cell_type": "code",
   "execution_count": null,
   "id": "2f76336e",
   "metadata": {},
   "outputs": [],
   "source": []
  }
 ],
 "metadata": {
  "kernelspec": {
   "display_name": "Python 3 (ipykernel)",
   "language": "python",
   "name": "python3"
  },
  "language_info": {
   "codemirror_mode": {
    "name": "ipython",
    "version": 3
   },
   "file_extension": ".py",
   "mimetype": "text/x-python",
   "name": "python",
   "nbconvert_exporter": "python",
   "pygments_lexer": "ipython3",
   "version": "3.11.0"
  }
 },
 "nbformat": 4,
 "nbformat_minor": 5
}
